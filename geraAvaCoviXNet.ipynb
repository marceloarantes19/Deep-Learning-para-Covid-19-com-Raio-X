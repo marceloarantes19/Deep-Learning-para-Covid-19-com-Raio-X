{
 "cells": [
  {
   "cell_type": "code",
   "execution_count": 1,
   "metadata": {},
   "outputs": [],
   "source": [
    "from keras.preprocessing.image import ImageDataGenerator\n",
    "import pandas as pd\n",
    "import os\n",
    "import matplotlib.pyplot as plt \n",
    "import numpy as np\n",
    "from sklearn.metrics import confusion_matrix, f1_score, precision_score, accuracy_score, recall_score \n",
    "from dataFrameCovid import DataFrameCovid as dfc\n",
    "from sklearn.metrics import classification_report\n",
    "from geraArquivo1 import GeraArquivo as ga"
   ]
  },
  {
   "cell_type": "code",
   "execution_count": 2,
   "metadata": {},
   "outputs": [
    {
     "name": "stderr",
     "output_type": "stream",
     "text": [
      "d:\\DropB\\Faculeste\\TCC\\codigos\\dataFrameCovid.py:27: FutureWarning: The frame.append method is deprecated and will be removed from pandas in a future version. Use pandas.concat instead.\n",
      "  df = df1.append(df2)\n"
     ]
    }
   ],
   "source": [
    "# Monta dataframe com nome dos arquivos\n",
    "df = dfc.getDf()"
   ]
  },
  {
   "cell_type": "code",
   "execution_count": 3,
   "metadata": {},
   "outputs": [
    {
     "data": {
      "text/plain": [
       "(27, 6)"
      ]
     },
     "execution_count": 3,
     "metadata": {},
     "output_type": "execute_result"
    }
   ],
   "source": [
    "# Variáveis de controle\n",
    "nImagens = len(df)\n",
    "percentual = 0.8\n",
    "tamanhoDoLote = 200\n",
    "epocas = 50\n",
    "passosPorEpoca = int(nImagens*percentual // tamanhoDoLote)\n",
    "passosPorValidacao = int(nImagens*(1.0 - percentual) // tamanhoDoLote)\n",
    "width = 64\n",
    "height = 64\n",
    "depth = 3\n",
    "classes = 2\n",
    "inputShape = (height, width, depth)\n",
    "passosPorEpoca, passosPorValidacao"
   ]
  },
  {
   "cell_type": "code",
   "execution_count": 4,
   "metadata": {},
   "outputs": [],
   "source": [
    "# gerando dataframes de treinamento e de teste\n",
    "dfTreinamento = df.sample(frac=0.8, random_state=100) # 70% de treinamento\n",
    "dfTeste = df[~df['arquivo'].isin(dfTreinamento['arquivo'])]     # 30% de teste"
   ]
  },
  {
   "cell_type": "code",
   "execution_count": 5,
   "metadata": {},
   "outputs": [
    {
     "name": "stdout",
     "output_type": "stream",
     "text": [
      "Found 5440 validated image filenames belonging to 2 classes.\n",
      "Found 1360 validated image filenames belonging to 2 classes.\n"
     ]
    }
   ],
   "source": [
    "imgGen = ImageDataGenerator(rescale = 1./255, \n",
    "                            shear_range=0.25, \n",
    "                            zoom_range = 0.25, \n",
    "                            horizontal_flip = True)\n",
    "\n",
    "conjTreinamento = imgGen.flow_from_dataframe(dfTreinamento, \"D:/DropB/Faculeste/TCC/Imagens/dataFrame\", \n",
    "                                  x_col = 'arquivo',\n",
    "                                  y_col = 'categoria',\n",
    "                                  target_size=(width, height), \n",
    "                                  batch_size=tamanhoDoLote, \n",
    "                                  class_mode='categorical')\n",
    "\n",
    "conjTeste = imgGen.flow_from_dataframe(dfTeste, \"D:/DropB/Faculeste/TCC/Imagens/dataFrame\", \n",
    "                                  x_col = 'arquivo',\n",
    "                                  y_col = 'categoria',\n",
    "                                  target_size=(width, height), \n",
    "                                  batch_size=tamanhoDoLote, \n",
    "                                  class_mode='categorical')"
   ]
  },
  {
   "cell_type": "code",
   "execution_count": 6,
   "metadata": {},
   "outputs": [
    {
     "name": "stdout",
     "output_type": "stream",
     "text": [
      "Model: \"sequential\"\n",
      "_________________________________________________________________\n",
      " Layer (type)                Output Shape              Param #   \n",
      "=================================================================\n",
      " conv2d (Conv2D)             (None, 64, 64, 32)        896       \n",
      "                                                                 \n",
      " max_pooling2d (MaxPooling2D  (None, 32, 32, 32)       0         \n",
      " )                                                               \n",
      "                                                                 \n",
      " conv2d_1 (Conv2D)           (None, 32, 32, 32)        9248      \n",
      "                                                                 \n",
      " max_pooling2d_1 (MaxPooling  (None, 16, 16, 32)       0         \n",
      " 2D)                                                             \n",
      "                                                                 \n",
      " conv2d_2 (Conv2D)           (None, 16, 16, 64)        18496     \n",
      "                                                                 \n",
      " max_pooling2d_2 (MaxPooling  (None, 8, 8, 64)         0         \n",
      " 2D)                                                             \n",
      "                                                                 \n",
      " flatten (Flatten)           (None, 4096)              0         \n",
      "                                                                 \n",
      " dense (Dense)               (None, 64)                262208    \n",
      "                                                                 \n",
      " dropout (Dropout)           (None, 64)                0         \n",
      "                                                                 \n",
      " dense_1 (Dense)             (None, 2)                 130       \n",
      "                                                                 \n",
      "=================================================================\n",
      "Total params: 290,978\n",
      "Trainable params: 290,978\n",
      "Non-trainable params: 0\n",
      "_________________________________________________________________\n"
     ]
    },
    {
     "name": "stderr",
     "output_type": "stream",
     "text": [
      "c:\\Users\\Marcelo\\AppData\\Local\\Programs\\Python\\Python310\\lib\\site-packages\\keras\\optimizers\\optimizer_v2\\gradient_descent.py:111: UserWarning: The `lr` argument is deprecated, use `learning_rate` instead.\n",
      "  super().__init__(name, **kwargs)\n"
     ]
    }
   ],
   "source": [
    "# Lenet5 - Ajustar imagens para 32 x 32\n",
    "from modCoviXNet import CoviXNet\n",
    "cvdClf = CoviXNet()\n",
    "cvdClf = cvdClf.build(height=height, width=width, depth=3, classes=2)\n",
    "cvdClf.summary()"
   ]
  },
  {
   "cell_type": "code",
   "execution_count": 7,
   "metadata": {},
   "outputs": [
    {
     "name": "stdout",
     "output_type": "stream",
     "text": [
      "Covid Net ***************************************************\n",
      "Epoch 1/50\n",
      "27/27 [==============================] - 35s 1s/step - loss: 0.6885 - accuracy: 0.5365 - val_loss: 0.6845 - val_accuracy: 0.5467\n",
      "Epoch 2/50\n",
      "27/27 [==============================] - 35s 1s/step - loss: 0.6807 - accuracy: 0.5618 - val_loss: 0.6712 - val_accuracy: 0.5492\n",
      "Epoch 3/50\n",
      "27/27 [==============================] - 38s 1s/step - loss: 0.6653 - accuracy: 0.5908 - val_loss: 0.6540 - val_accuracy: 0.5617\n",
      "Epoch 4/50\n",
      "27/27 [==============================] - 38s 1s/step - loss: 0.6565 - accuracy: 0.5962 - val_loss: 0.6411 - val_accuracy: 0.6567\n",
      "Epoch 5/50\n",
      "27/27 [==============================] - 36s 1s/step - loss: 0.6398 - accuracy: 0.6303 - val_loss: 0.6601 - val_accuracy: 0.5525\n",
      "Epoch 6/50\n",
      "27/27 [==============================] - 35s 1s/step - loss: 0.6097 - accuracy: 0.6656 - val_loss: 0.5788 - val_accuracy: 0.6867\n",
      "Epoch 7/50\n",
      "27/27 [==============================] - 35s 1s/step - loss: 0.5991 - accuracy: 0.6704 - val_loss: 0.6331 - val_accuracy: 0.6067\n",
      "Epoch 8/50\n",
      "27/27 [==============================] - 36s 1s/step - loss: 0.6198 - accuracy: 0.6513 - val_loss: 0.6020 - val_accuracy: 0.6758\n",
      "Epoch 9/50\n",
      "27/27 [==============================] - 36s 1s/step - loss: 0.5792 - accuracy: 0.6968 - val_loss: 0.6203 - val_accuracy: 0.6433\n",
      "Epoch 10/50\n",
      "27/27 [==============================] - 35s 1s/step - loss: 0.5689 - accuracy: 0.7025 - val_loss: 0.5502 - val_accuracy: 0.6983\n",
      "Epoch 11/50\n",
      "27/27 [==============================] - 35s 1s/step - loss: 0.5778 - accuracy: 0.6931 - val_loss: 0.5718 - val_accuracy: 0.6967\n",
      "Epoch 12/50\n",
      "27/27 [==============================] - 35s 1s/step - loss: 0.5397 - accuracy: 0.7254 - val_loss: 0.5423 - val_accuracy: 0.7058\n",
      "Epoch 13/50\n",
      "27/27 [==============================] - 35s 1s/step - loss: 0.5282 - accuracy: 0.7263 - val_loss: 0.5406 - val_accuracy: 0.7092\n",
      "Epoch 14/50\n",
      "27/27 [==============================] - 35s 1s/step - loss: 0.5174 - accuracy: 0.7353 - val_loss: 0.5787 - val_accuracy: 0.7017\n",
      "Epoch 15/50\n",
      "27/27 [==============================] - 34s 1s/step - loss: 0.5141 - accuracy: 0.7366 - val_loss: 0.5039 - val_accuracy: 0.7233\n",
      "Epoch 16/50\n",
      "27/27 [==============================] - 34s 1s/step - loss: 0.5075 - accuracy: 0.7439 - val_loss: 0.5120 - val_accuracy: 0.7283\n",
      "Epoch 17/50\n",
      "27/27 [==============================] - 34s 1s/step - loss: 0.4850 - accuracy: 0.7603 - val_loss: 0.4923 - val_accuracy: 0.7342\n",
      "Epoch 18/50\n",
      "27/27 [==============================] - 34s 1s/step - loss: 0.5580 - accuracy: 0.7109 - val_loss: 0.5023 - val_accuracy: 0.7258\n",
      "Epoch 19/50\n",
      "27/27 [==============================] - 34s 1s/step - loss: 0.4728 - accuracy: 0.7567 - val_loss: 0.4832 - val_accuracy: 0.7525\n",
      "Epoch 20/50\n",
      "27/27 [==============================] - 35s 1s/step - loss: 0.4713 - accuracy: 0.7676 - val_loss: 0.4963 - val_accuracy: 0.7300\n",
      "Epoch 21/50\n",
      "27/27 [==============================] - 34s 1s/step - loss: 0.4569 - accuracy: 0.7733 - val_loss: 0.4724 - val_accuracy: 0.7483\n",
      "Epoch 22/50\n",
      "27/27 [==============================] - 35s 1s/step - loss: 0.4691 - accuracy: 0.7740 - val_loss: 0.4453 - val_accuracy: 0.7683\n",
      "Epoch 23/50\n",
      "27/27 [==============================] - 33s 1s/step - loss: 0.4487 - accuracy: 0.7773 - val_loss: 0.4592 - val_accuracy: 0.7525\n",
      "Epoch 24/50\n",
      "27/27 [==============================] - 34s 1s/step - loss: 0.4376 - accuracy: 0.7901 - val_loss: 0.4797 - val_accuracy: 0.7467\n",
      "Epoch 25/50\n",
      "27/27 [==============================] - 34s 1s/step - loss: 0.4429 - accuracy: 0.7834 - val_loss: 0.4428 - val_accuracy: 0.7650\n",
      "Epoch 26/50\n",
      "27/27 [==============================] - 33s 1s/step - loss: 0.4358 - accuracy: 0.7807 - val_loss: 0.4907 - val_accuracy: 0.7558\n",
      "Epoch 27/50\n",
      "27/27 [==============================] - 35s 1s/step - loss: 0.4409 - accuracy: 0.7885 - val_loss: 0.4326 - val_accuracy: 0.7650\n",
      "Epoch 28/50\n",
      "27/27 [==============================] - 35s 1s/step - loss: 0.4170 - accuracy: 0.8002 - val_loss: 0.4140 - val_accuracy: 0.7917\n",
      "Epoch 29/50\n",
      "27/27 [==============================] - 35s 1s/step - loss: 0.4283 - accuracy: 0.7924 - val_loss: 0.4569 - val_accuracy: 0.7725\n",
      "Epoch 30/50\n",
      "27/27 [==============================] - 35s 1s/step - loss: 0.4228 - accuracy: 0.7994 - val_loss: 0.4220 - val_accuracy: 0.7808\n",
      "Epoch 31/50\n",
      "27/27 [==============================] - 35s 1s/step - loss: 0.4336 - accuracy: 0.7823 - val_loss: 0.4234 - val_accuracy: 0.7950\n",
      "Epoch 32/50\n",
      "27/27 [==============================] - 34s 1s/step - loss: 0.4006 - accuracy: 0.8034 - val_loss: 0.4067 - val_accuracy: 0.7933\n",
      "Epoch 33/50\n",
      "27/27 [==============================] - 34s 1s/step - loss: 0.4066 - accuracy: 0.8080 - val_loss: 0.4024 - val_accuracy: 0.7942\n",
      "Epoch 34/50\n",
      "27/27 [==============================] - 34s 1s/step - loss: 0.3975 - accuracy: 0.8084 - val_loss: 0.3951 - val_accuracy: 0.7983\n",
      "Epoch 35/50\n",
      "27/27 [==============================] - 34s 1s/step - loss: 0.3997 - accuracy: 0.8099 - val_loss: 0.4063 - val_accuracy: 0.7933\n",
      "Epoch 36/50\n",
      "27/27 [==============================] - 34s 1s/step - loss: 0.4050 - accuracy: 0.7979 - val_loss: 0.4792 - val_accuracy: 0.7400\n",
      "Epoch 37/50\n",
      "27/27 [==============================] - 33s 1s/step - loss: 0.4286 - accuracy: 0.7933 - val_loss: 0.4143 - val_accuracy: 0.7900\n",
      "Epoch 38/50\n",
      "27/27 [==============================] - 34s 1s/step - loss: 0.3934 - accuracy: 0.8099 - val_loss: 0.3965 - val_accuracy: 0.8025\n",
      "Epoch 39/50\n",
      "27/27 [==============================] - 33s 1s/step - loss: 0.3849 - accuracy: 0.8166 - val_loss: 0.3740 - val_accuracy: 0.8192\n",
      "Epoch 40/50\n",
      "27/27 [==============================] - 34s 1s/step - loss: 0.3698 - accuracy: 0.8239 - val_loss: 0.4024 - val_accuracy: 0.7958\n",
      "Epoch 41/50\n",
      "27/27 [==============================] - 34s 1s/step - loss: 0.3834 - accuracy: 0.8172 - val_loss: 0.3794 - val_accuracy: 0.8142\n",
      "Epoch 42/50\n",
      "27/27 [==============================] - 33s 1s/step - loss: 0.3711 - accuracy: 0.8269 - val_loss: 0.4167 - val_accuracy: 0.7983\n",
      "Epoch 43/50\n",
      "27/27 [==============================] - 34s 1s/step - loss: 0.3842 - accuracy: 0.8197 - val_loss: 0.3852 - val_accuracy: 0.8175\n",
      "Epoch 44/50\n",
      "27/27 [==============================] - 35s 1s/step - loss: 0.3761 - accuracy: 0.8221 - val_loss: 0.3927 - val_accuracy: 0.8233\n",
      "Epoch 45/50\n",
      "27/27 [==============================] - 34s 1s/step - loss: 0.3616 - accuracy: 0.8324 - val_loss: 0.3869 - val_accuracy: 0.8125\n",
      "Epoch 46/50\n",
      "27/27 [==============================] - 34s 1s/step - loss: 0.3634 - accuracy: 0.8326 - val_loss: 0.4435 - val_accuracy: 0.7908\n",
      "Epoch 47/50\n",
      "27/27 [==============================] - 35s 1s/step - loss: 0.3941 - accuracy: 0.8200 - val_loss: 0.4297 - val_accuracy: 0.7917\n",
      "Epoch 48/50\n",
      "27/27 [==============================] - 39s 1s/step - loss: 0.3674 - accuracy: 0.8290 - val_loss: 0.3608 - val_accuracy: 0.8333\n",
      "Epoch 49/50\n",
      "27/27 [==============================] - 38s 1s/step - loss: 0.3683 - accuracy: 0.8256 - val_loss: 0.3685 - val_accuracy: 0.8308\n",
      "Epoch 50/50\n",
      "27/27 [==============================] - 37s 1s/step - loss: 0.3635 - accuracy: 0.8324 - val_loss: 0.3690 - val_accuracy: 0.8150\n"
     ]
    }
   ],
   "source": [
    "print(\"Covid Net ***************************************************\")\n",
    "h1 = cvdClf.fit(x=conjTreinamento, steps_per_epoch=passosPorEpoca, epochs=epocas, validation_data=conjTeste, validation_steps=passosPorValidacao, verbose=1).history"
   ]
  },
  {
   "cell_type": "code",
   "execution_count": 8,
   "metadata": {},
   "outputs": [
    {
     "data": {
      "image/png": "[encoded data removed]",
      "text/plain": [
       "<Figure size 432x288 with 1 Axes>"
      ]
     },
     "metadata": {
      "needs_background": "light"
     },
     "output_type": "display_data"
    }
   ],
   "source": [
    "# Gráfico de Acurácia\n",
    "plt.style.use(\"ggplot\")\n",
    "plt.figure()\n",
    "plt.plot(np.arange(0, epocas), h1[\"accuracy\"], label=\"Acuracia\")\n",
    "#plt.plot(np.arange(0, epc), h1[\"loss\"], label=\"Perda\")\n",
    "plt.plot(np.arange(0, epocas), h1[\"val_accuracy\"], label=\"Acurácia de Validação\")\n",
    "#plt.plot(np.arange(0, epc), h1[\"val_loss\"], label=\"Perda na Validação\")\n",
    "plt.title(\"CoviXNet\")\n",
    "plt.xlabel(\"Épocas\")\n",
    "plt.ylabel(\"Valores\")\n",
    "plt.legend()\n",
    "plt.show()"
   ]
  },
  {
   "cell_type": "code",
   "execution_count": 9,
   "metadata": {},
   "outputs": [
    {
     "name": "stdout",
     "output_type": "stream",
     "text": [
      "7/7 [==============================] - 0s 19ms/step\n",
      "              precision    recall  f1-score   support\n",
      "\n",
      "   Não Covid       0.85      0.80      0.82       114\n",
      "       Covid       0.75      0.81      0.78        86\n",
      "\n",
      "    accuracy                           0.81       200\n",
      "   macro avg       0.80      0.81      0.80       200\n",
      "weighted avg       0.81      0.81      0.81       200\n",
      "\n"
     ]
    }
   ],
   "source": [
    "prdCvd = cvdClf.predict(conjTeste[0][0])\n",
    "categorias = []\n",
    "for i in conjTeste[0][1]:\n",
    "    categorias.append(0 if i[0] > 0.0 else 1)\n",
    "predCovidNet = []\n",
    "for i in prdCvd:\n",
    "    predCovidNet.append(0 if i[0] >= 0.5 else 1)\n",
    "print(classification_report(categorias, predCovidNet, target_names=[\"Não Covid\", \"Covid\"]))"
   ]
  },
  {
   "cell_type": "code",
   "execution_count": 10,
   "metadata": {},
   "outputs": [],
   "source": [
    "ga.geraHistorico(\"arquivos/arqCoviXNet\"+str(epocas)+\".csv\", h1)\n",
    "ga.geraPredicao(\"arquivos/arqPredCoviXNet\"+str(tamanhoDoLote)+\".csv\", categorias, predCovidNet)"
   ]
  },
  {
   "cell_type": "code",
   "execution_count": 11,
   "metadata": {},
   "outputs": [
    {
     "data": {
      "text/plain": [
       "'\\ndf1 = dfc.getDfPredicao()\\nprdTmnh = len(df1)\\nconjPred = imgGen.flow_from_dataframe(df1, \"D:/DropB/Faculeste/TCC/Imagens/dataFrame\", \\n                                x_col = \\'arquivo\\',\\n                                y_col = \\'categoria\\',\\n                                target_size=(width, height), \\n                                batch_size=prdTmnh, \\n                                class_mode=\\'categorical\\')\\nprdLNt = lntClf.predict(conjPred[0][0])\\ncategorias = []\\nfor i in conjPred[0][1]:\\n    categorias.append(0 if i[0] > 0.0 else 1)\\nprdLNet = []\\nfor i in prdLNt:\\n    prdLNet.append(0 if i[0] >= 0.5 else 1)\\nprint(classification_report(categorias, prdLNet, target_names=[\"Não Covid\", \"Covid\"]))\\n'"
      ]
     },
     "execution_count": 11,
     "metadata": {},
     "output_type": "execute_result"
    }
   ],
   "source": [
    "'''\n",
    "df1 = dfc.getDfPredicao()\n",
    "prdTmnh = len(df1)\n",
    "conjPred = imgGen.flow_from_dataframe(df1, \"D:/DropB/Faculeste/TCC/Imagens/dataFrame\", \n",
    "                                x_col = 'arquivo',\n",
    "                                y_col = 'categoria',\n",
    "                                target_size=(width, height), \n",
    "                                batch_size=prdTmnh, \n",
    "                                class_mode='categorical')\n",
    "prdLNt = lntClf.predict(conjPred[0][0])\n",
    "categorias = []\n",
    "for i in conjPred[0][1]:\n",
    "    categorias.append(0 if i[0] > 0.0 else 1)\n",
    "prdLNet = []\n",
    "for i in prdLNt:\n",
    "    prdLNet.append(0 if i[0] >= 0.5 else 1)\n",
    "print(classification_report(categorias, prdLNet, target_names=[\"Não Covid\", \"Covid\"]))\n",
    "'''\n"
   ]
  }
 ],
 "metadata": {
  "kernelspec": {
   "display_name": "Python 3",
   "language": "python",
   "name": "python3"
  },
  "language_info": {
   "codemirror_mode": {
    "name": "ipython",
    "version": 3
   },
   "file_extension": ".py",
   "mimetype": "text/x-python",
   "name": "python",
   "nbconvert_exporter": "python",
   "pygments_lexer": "ipython3",
   "version": "3.10.5"
  },
  "orig_nbformat": 4
 },
 "nbformat": 4,
 "nbformat_minor": 2
}
