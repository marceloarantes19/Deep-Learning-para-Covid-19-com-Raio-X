{
 "cells": [
  {
   "cell_type": "code",
   "execution_count": 2,
   "metadata": {},
   "outputs": [],
   "source": [
    "from keras.preprocessing.image import ImageDataGenerator\n",
    "import pandas as pd\n",
    "import os\n",
    "import matplotlib.pyplot as plt \n",
    "import numpy as np\n",
    "from sklearn.metrics import confusion_matrix, f1_score, precision_score, accuracy_score, recall_score \n",
    "from dataFrameCovid import DataFrameCovid as dfc\n",
    "from sklearn.metrics import classification_report\n",
    "from geraArquivo1 import GeraArquivo as ga"
   ]
  },
  {
   "cell_type": "code",
   "execution_count": 3,
   "metadata": {},
   "outputs": [
    {
     "name": "stderr",
     "output_type": "stream",
     "text": [
      "d:\\DropB\\Faculeste\\TCC\\codigos\\dataFrameCovid.py:27: FutureWarning: The frame.append method is deprecated and will be removed from pandas in a future version. Use pandas.concat instead.\n",
      "  df = df1.append(df2)\n"
     ]
    }
   ],
   "source": [
    "# Monta dataframe com nome dos arquivos\n",
    "df = dfc.getDf()"
   ]
  },
  {
   "cell_type": "code",
   "execution_count": 4,
   "metadata": {},
   "outputs": [
    {
     "data": {
      "text/plain": [
       "(27, 6)"
      ]
     },
     "execution_count": 4,
     "metadata": {},
     "output_type": "execute_result"
    }
   ],
   "source": [
    "# Variáveis de controle\n",
    "nImagens = len(df)\n",
    "percentual = 0.8\n",
    "tamanhoDoLote = 200\n",
    "epocas = 50\n",
    "passosPorEpoca = int(nImagens*percentual // tamanhoDoLote)\n",
    "passosPorValidacao = int(nImagens*(1.0 - percentual) // tamanhoDoLote)\n",
    "width = 64\n",
    "height = 64\n",
    "depth = 3\n",
    "classes = 2\n",
    "inputShape = (height, width, depth)\n",
    "passosPorEpoca, passosPorValidacao"
   ]
  },
  {
   "cell_type": "code",
   "execution_count": 5,
   "metadata": {},
   "outputs": [],
   "source": [
    "# gerando dataframes de treinamento e de teste\n",
    "dfTreinamento = df.sample(frac=0.8, random_state=100) # 70% de treinamento\n",
    "dfTeste = df[~df['arquivo'].isin(dfTreinamento['arquivo'])]     # 30% de teste"
   ]
  },
  {
   "cell_type": "code",
   "execution_count": 6,
   "metadata": {},
   "outputs": [
    {
     "name": "stdout",
     "output_type": "stream",
     "text": [
      "Found 5440 validated image filenames belonging to 2 classes.\n",
      "Found 1360 validated image filenames belonging to 2 classes.\n"
     ]
    }
   ],
   "source": [
    "imgGen = ImageDataGenerator(rescale = 1./255, \n",
    "                            shear_range=0.25, \n",
    "                            zoom_range = 0.25, \n",
    "                            horizontal_flip = True)\n",
    "\n",
    "conjTreinamento = imgGen.flow_from_dataframe(dfTreinamento, \"D:/DropB/Faculeste/TCC/Imagens/dataFrame\", \n",
    "                                  x_col = 'arquivo',\n",
    "                                  y_col = 'categoria',\n",
    "                                  target_size=(width, height), \n",
    "                                  batch_size=tamanhoDoLote, \n",
    "                                  class_mode='categorical')\n",
    "\n",
    "conjTeste = imgGen.flow_from_dataframe(dfTeste, \"D:/DropB/Faculeste/TCC/Imagens/dataFrame\", \n",
    "                                  x_col = 'arquivo',\n",
    "                                  y_col = 'categoria',\n",
    "                                  target_size=(width, height), \n",
    "                                  batch_size=tamanhoDoLote, \n",
    "                                  class_mode='categorical')"
   ]
  },
  {
   "cell_type": "code",
   "execution_count": 7,
   "metadata": {},
   "outputs": [
    {
     "name": "stdout",
     "output_type": "stream",
     "text": [
      "Model: \"sequential\"\n",
      "_________________________________________________________________\n",
      " Layer (type)                Output Shape              Param #   \n",
      "=================================================================\n",
      " conv2d (Conv2D)             (None, 64, 64, 64)        1792      \n",
      "                                                                 \n",
      " activation (Activation)     (None, 64, 64, 64)        0         \n",
      "                                                                 \n",
      " batch_normalization (BatchN  (None, 64, 64, 64)       256       \n",
      " ormalization)                                                   \n",
      "                                                                 \n",
      " dropout (Dropout)           (None, 64, 64, 64)        0         \n",
      "                                                                 \n",
      " conv2d_1 (Conv2D)           (None, 64, 64, 64)        36928     \n",
      "                                                                 \n",
      " activation_1 (Activation)   (None, 64, 64, 64)        0         \n",
      "                                                                 \n",
      " batch_normalization_1 (Batc  (None, 64, 64, 64)       256       \n",
      " hNormalization)                                                 \n",
      "                                                                 \n",
      " max_pooling2d (MaxPooling2D  (None, 32, 32, 64)       0         \n",
      " )                                                               \n",
      "                                                                 \n",
      " conv2d_2 (Conv2D)           (None, 32, 32, 128)       73856     \n",
      "                                                                 \n",
      " activation_2 (Activation)   (None, 32, 32, 128)       0         \n",
      "                                                                 \n",
      " batch_normalization_2 (Batc  (None, 32, 32, 128)      512       \n",
      " hNormalization)                                                 \n",
      "                                                                 \n",
      " dropout_1 (Dropout)         (None, 32, 32, 128)       0         \n",
      "                                                                 \n",
      " conv2d_3 (Conv2D)           (None, 32, 32, 128)       147584    \n",
      "                                                                 \n",
      " activation_3 (Activation)   (None, 32, 32, 128)       0         \n",
      "                                                                 \n",
      " batch_normalization_3 (Batc  (None, 32, 32, 128)      512       \n",
      " hNormalization)                                                 \n",
      "                                                                 \n",
      " max_pooling2d_1 (MaxPooling  (None, 16, 16, 128)      0         \n",
      " 2D)                                                             \n",
      "                                                                 \n",
      " conv2d_4 (Conv2D)           (None, 16, 16, 256)       295168    \n",
      "                                                                 \n",
      " activation_4 (Activation)   (None, 16, 16, 256)       0         \n",
      "                                                                 \n",
      " batch_normalization_4 (Batc  (None, 16, 16, 256)      1024      \n",
      " hNormalization)                                                 \n",
      "                                                                 \n",
      " dropout_2 (Dropout)         (None, 16, 16, 256)       0         \n",
      "                                                                 \n",
      " conv2d_5 (Conv2D)           (None, 16, 16, 256)       590080    \n",
      "                                                                 \n",
      " activation_5 (Activation)   (None, 16, 16, 256)       0         \n",
      "                                                                 \n",
      " batch_normalization_5 (Batc  (None, 16, 16, 256)      1024      \n",
      " hNormalization)                                                 \n",
      "                                                                 \n",
      " dropout_3 (Dropout)         (None, 16, 16, 256)       0         \n",
      "                                                                 \n",
      " conv2d_6 (Conv2D)           (None, 16, 16, 256)       590080    \n",
      "                                                                 \n",
      " activation_6 (Activation)   (None, 16, 16, 256)       0         \n",
      "                                                                 \n",
      " batch_normalization_6 (Batc  (None, 16, 16, 256)      1024      \n",
      " hNormalization)                                                 \n",
      "                                                                 \n",
      " max_pooling2d_2 (MaxPooling  (None, 8, 8, 256)        0         \n",
      " 2D)                                                             \n",
      "                                                                 \n",
      " conv2d_7 (Conv2D)           (None, 8, 8, 512)         1180160   \n",
      "                                                                 \n",
      " activation_7 (Activation)   (None, 8, 8, 512)         0         \n",
      "                                                                 \n",
      " batch_normalization_7 (Batc  (None, 8, 8, 512)        2048      \n",
      " hNormalization)                                                 \n",
      "                                                                 \n",
      " dropout_4 (Dropout)         (None, 8, 8, 512)         0         \n",
      "                                                                 \n",
      " conv2d_8 (Conv2D)           (None, 8, 8, 512)         2359808   \n",
      "                                                                 \n",
      " activation_8 (Activation)   (None, 8, 8, 512)         0         \n",
      "                                                                 \n",
      " batch_normalization_8 (Batc  (None, 8, 8, 512)        2048      \n",
      " hNormalization)                                                 \n",
      "                                                                 \n",
      " dropout_5 (Dropout)         (None, 8, 8, 512)         0         \n",
      "                                                                 \n",
      " conv2d_9 (Conv2D)           (None, 8, 8, 512)         2359808   \n",
      "                                                                 \n",
      " activation_9 (Activation)   (None, 8, 8, 512)         0         \n",
      "                                                                 \n",
      " batch_normalization_9 (Batc  (None, 8, 8, 512)        2048      \n",
      " hNormalization)                                                 \n",
      "                                                                 \n",
      " max_pooling2d_3 (MaxPooling  (None, 4, 4, 512)        0         \n",
      " 2D)                                                             \n",
      "                                                                 \n",
      " conv2d_10 (Conv2D)          (None, 4, 4, 512)         2359808   \n",
      "                                                                 \n",
      " activation_10 (Activation)  (None, 4, 4, 512)         0         \n",
      "                                                                 \n",
      " batch_normalization_10 (Bat  (None, 4, 4, 512)        2048      \n",
      " chNormalization)                                                \n",
      "                                                                 \n",
      " dropout_6 (Dropout)         (None, 4, 4, 512)         0         \n",
      "                                                                 \n",
      " conv2d_11 (Conv2D)          (None, 4, 4, 512)         2359808   \n",
      "                                                                 \n",
      " activation_11 (Activation)  (None, 4, 4, 512)         0         \n",
      "                                                                 \n",
      " batch_normalization_11 (Bat  (None, 4, 4, 512)        2048      \n",
      " chNormalization)                                                \n",
      "                                                                 \n",
      " dropout_7 (Dropout)         (None, 4, 4, 512)         0         \n",
      "                                                                 \n",
      " conv2d_12 (Conv2D)          (None, 4, 4, 512)         2359808   \n",
      "                                                                 \n",
      " activation_12 (Activation)  (None, 4, 4, 512)         0         \n",
      "                                                                 \n",
      " batch_normalization_12 (Bat  (None, 4, 4, 512)        2048      \n",
      " chNormalization)                                                \n",
      "                                                                 \n",
      " max_pooling2d_4 (MaxPooling  (None, 2, 2, 512)        0         \n",
      " 2D)                                                             \n",
      "                                                                 \n",
      " dropout_8 (Dropout)         (None, 2, 2, 512)         0         \n",
      "                                                                 \n",
      " flatten (Flatten)           (None, 2048)              0         \n",
      "                                                                 \n",
      " dense (Dense)               (None, 512)               1049088   \n",
      "                                                                 \n",
      " activation_13 (Activation)  (None, 512)               0         \n",
      "                                                                 \n",
      " batch_normalization_13 (Bat  (None, 512)              2048      \n",
      " chNormalization)                                                \n",
      "                                                                 \n",
      " dropout_9 (Dropout)         (None, 512)               0         \n",
      "                                                                 \n",
      " dense_1 (Dense)             (None, 2)                 1026      \n",
      "                                                                 \n",
      " activation_14 (Activation)  (None, 2)                 0         \n",
      "                                                                 \n",
      "=================================================================\n",
      "Total params: 15,783,746\n",
      "Trainable params: 15,774,274\n",
      "Non-trainable params: 9,472\n",
      "_________________________________________________________________\n"
     ]
    },
    {
     "name": "stderr",
     "output_type": "stream",
     "text": [
      "c:\\Users\\Marcelo\\AppData\\Local\\Programs\\Python\\Python310\\lib\\site-packages\\keras\\optimizers\\optimizer_v2\\gradient_descent.py:111: UserWarning: The `lr` argument is deprecated, use `learning_rate` instead.\n",
      "  super().__init__(name, **kwargs)\n"
     ]
    }
   ],
   "source": [
    "from modVgg16Net import Vgg16NetM\n",
    "vggClf = Vgg16NetM()\n",
    "vggClf = vggClf.build(width=width, height=height, depth=3, classes=2)\n",
    "vggClf.summary()"
   ]
  },
  {
   "cell_type": "code",
   "execution_count": 8,
   "metadata": {},
   "outputs": [
    {
     "name": "stdout",
     "output_type": "stream",
     "text": [
      "VGG 16 Net ***************************************************\n"
     ]
    },
    {
     "name": "stdout",
     "output_type": "stream",
     "text": [
      "Epoch 1/20\n",
      "27/27 [==============================] - 558s 20s/step - loss: 1.0750 - accuracy: 0.6498 - val_loss: 774.4764 - val_accuracy: 0.4650\n",
      "Epoch 2/20\n",
      "27/27 [==============================] - 499s 18s/step - loss: 0.7499 - accuracy: 0.7704 - val_loss: 98.5963 - val_accuracy: 0.4558\n",
      "Epoch 3/20\n",
      "27/27 [==============================] - 491s 18s/step - loss: 0.6890 - accuracy: 0.8044 - val_loss: 5.0784 - val_accuracy: 0.4783\n",
      "Epoch 4/20\n",
      "27/27 [==============================] - 485s 18s/step - loss: 0.6611 - accuracy: 0.8143 - val_loss: 1.9715 - val_accuracy: 0.5425\n",
      "Epoch 5/20\n",
      "27/27 [==============================] - 518s 19s/step - loss: 0.6229 - accuracy: 0.8376 - val_loss: 2.6065 - val_accuracy: 0.5500\n",
      "Epoch 6/20\n",
      "27/27 [==============================] - 489s 18s/step - loss: 0.6797 - accuracy: 0.8116 - val_loss: 1.2204 - val_accuracy: 0.6767\n",
      "Epoch 7/20\n",
      "27/27 [==============================] - 488s 18s/step - loss: 0.6405 - accuracy: 0.8271 - val_loss: 2.3245 - val_accuracy: 0.5758\n",
      "Epoch 8/20\n",
      "27/27 [==============================] - 482s 18s/step - loss: 0.6053 - accuracy: 0.8469 - val_loss: 1.5475 - val_accuracy: 0.5925\n",
      "Epoch 9/20\n",
      "27/27 [==============================] - 490s 18s/step - loss: 0.5912 - accuracy: 0.8529 - val_loss: 1.4211 - val_accuracy: 0.6425\n",
      "Epoch 10/20\n",
      "27/27 [==============================] - 485s 18s/step - loss: 0.5914 - accuracy: 0.8595 - val_loss: 1.6392 - val_accuracy: 0.6083\n",
      "Epoch 11/20\n",
      "27/27 [==============================] - 482s 18s/step - loss: 0.5788 - accuracy: 0.8645 - val_loss: 1.4478 - val_accuracy: 0.6525\n",
      "Epoch 12/20\n",
      "27/27 [==============================] - 482s 18s/step - loss: 0.5639 - accuracy: 0.8664 - val_loss: 1.0732 - val_accuracy: 0.6967\n",
      "Epoch 13/20\n",
      "27/27 [==============================] - 483s 18s/step - loss: 0.5444 - accuracy: 0.8723 - val_loss: 1.0841 - val_accuracy: 0.6217\n",
      "Epoch 14/20\n",
      "27/27 [==============================] - 483s 18s/step - loss: 0.5355 - accuracy: 0.8769 - val_loss: 1.4397 - val_accuracy: 0.5550\n",
      "Epoch 15/20\n",
      "27/27 [==============================] - 485s 18s/step - loss: 0.5423 - accuracy: 0.8763 - val_loss: 1.9755 - val_accuracy: 0.4925\n",
      "Epoch 16/20\n",
      "27/27 [==============================] - 481s 18s/step - loss: 0.5209 - accuracy: 0.8872 - val_loss: 1.9946 - val_accuracy: 0.4783\n",
      "Epoch 17/20\n",
      "27/27 [==============================] - 482s 18s/step - loss: 0.5521 - accuracy: 0.8727 - val_loss: 1.4930 - val_accuracy: 0.5667\n",
      "Epoch 18/20\n",
      "27/27 [==============================] - 480s 18s/step - loss: 0.5168 - accuracy: 0.8897 - val_loss: 1.6410 - val_accuracy: 0.5558\n",
      "Epoch 19/20\n",
      "27/27 [==============================] - 477s 18s/step - loss: 0.5018 - accuracy: 0.8964 - val_loss: 1.8218 - val_accuracy: 0.4767\n",
      "Epoch 20/20\n",
      "27/27 [==============================] - 479s 18s/step - loss: 0.5020 - accuracy: 0.8996 - val_loss: 1.3380 - val_accuracy: 0.6067\n"
     ]
    }
   ],
   "source": [
    "print(\"VGG 16 Net ***************************************************\")\n",
    "h1 = vggClf.fit(x=conjTreinamento, steps_per_epoch=passosPorEpoca, epochs=epocas, validation_data=conjTeste, validation_steps=passosPorValidacao, verbose=1).history"
   ]
  },
  {
   "cell_type": "code",
   "execution_count": 9,
   "metadata": {},
   "outputs": [
    {
     "data": {
      "image/png": "[encoded data removed]",
      "text/plain": [
       "<Figure size 432x288 with 1 Axes>"
      ]
     },
     "metadata": {
      "needs_background": "light"
     },
     "output_type": "display_data"
    }
   ],
   "source": [
    "# Gráfico de Acurácia\n",
    "plt.style.use(\"ggplot\")\n",
    "plt.figure()\n",
    "plt.plot(np.arange(0, epocas), h1[\"accuracy\"], label=\"Acuracia\")\n",
    "#plt.plot(np.arange(0, epc), h1[\"loss\"], label=\"Perda\")\n",
    "plt.plot(np.arange(0, epocas), h1[\"val_accuracy\"], label=\"Acurácia de Validação\")\n",
    "#plt.plot(np.arange(0, epc), h1[\"val_loss\"], label=\"Perda na Validação\")\n",
    "plt.title(\"VGG 16 - Net\")\n",
    "plt.xlabel(\"Épocas\")\n",
    "plt.ylabel(\"Valores\")\n",
    "plt.legend()\n",
    "plt.show()"
   ]
  },
  {
   "cell_type": "code",
   "execution_count": 10,
   "metadata": {},
   "outputs": [
    {
     "name": "stdout",
     "output_type": "stream",
     "text": [
      "7/7 [==============================] - 4s 508ms/step\n",
      "              precision    recall  f1-score   support\n",
      "\n",
      "   Não Covid       0.70      0.43      0.53       114\n",
      "       Covid       0.50      0.76      0.60        86\n",
      "\n",
      "    accuracy                           0.57       200\n",
      "   macro avg       0.60      0.59      0.57       200\n",
      "weighted avg       0.61      0.57      0.56       200\n",
      "\n"
     ]
    }
   ],
   "source": [
    "prdVgg = vggClf.predict(conjTeste[0][0])\n",
    "categorias = []\n",
    "for i in conjTeste[0][1]:\n",
    "    categorias.append(0 if i[0] > 0.0 else 1)\n",
    "predVggNet = []\n",
    "for i in prdVgg:\n",
    "    predVggNet.append(0 if i[0] >= 0.5 else 1)\n",
    "print(classification_report(categorias, predVggNet, target_names=[\"Não Covid\", \"Covid\"]))"
   ]
  },
  {
   "cell_type": "code",
   "execution_count": 11,
   "metadata": {},
   "outputs": [],
   "source": [
    "ga.geraHistorico(\"arquivos/arqVggNet\"+str(epocas)+\".csv\", h1)\n",
    "ga.geraPredicao(\"arquivos/arqPredVggNet\"+str(tamanhoDoLote)+\".csv\", categorias, predVggNet)"
   ]
  },
  {
   "cell_type": "code",
   "execution_count": 12,
   "metadata": {},
   "outputs": [
    {
     "data": {
      "text/plain": [
       "'\\ndf1 = dfc.getDfPredicao()\\nprdTmnh = len(df1)\\nconjPred = imgGen.flow_from_dataframe(df1, \"D:/DropB/Faculeste/TCC/Imagens/dataFrame\", \\n                                x_col = \\'arquivo\\',\\n                                y_col = \\'categoria\\',\\n                                target_size=(width, height), \\n                                batch_size=prdTmnh, \\n                                class_mode=\\'categorical\\')\\nprdLNt = lntClf.predict(conjPred[0][0])\\ncategorias = []\\nfor i in conjPred[0][1]:\\n    categorias.append(0 if i[0] > 0.0 else 1)\\nprdLNet = []\\nfor i in prdLNt:\\n    prdLNet.append(0 if i[0] >= 0.5 else 1)\\nprint(classification_report(categorias, prdLNet, target_names=[\"Não Covid\", \"Covid\"]))\\n'"
      ]
     },
     "execution_count": 12,
     "metadata": {},
     "output_type": "execute_result"
    }
   ],
   "source": [
    "'''\n",
    "df1 = dfc.getDfPredicao()\n",
    "prdTmnh = len(df1)\n",
    "conjPred = imgGen.flow_from_dataframe(df1, \"D:/DropB/Faculeste/TCC/Imagens/dataFrame\", \n",
    "                                x_col = 'arquivo',\n",
    "                                y_col = 'categoria',\n",
    "                                target_size=(width, height), \n",
    "                                batch_size=prdTmnh, \n",
    "                                class_mode='categorical')\n",
    "prdLNt = lntClf.predict(conjPred[0][0])\n",
    "categorias = []\n",
    "for i in conjPred[0][1]:\n",
    "    categorias.append(0 if i[0] > 0.0 else 1)\n",
    "prdLNet = []\n",
    "for i in prdLNt:\n",
    "    prdLNet.append(0 if i[0] >= 0.5 else 1)\n",
    "print(classification_report(categorias, prdLNet, target_names=[\"Não Covid\", \"Covid\"]))\n",
    "'''\n"
   ]
  }
 ],
 "metadata": {
  "kernelspec": {
   "display_name": "Python 3",
   "language": "python",
   "name": "python3"
  },
  "language_info": {
   "codemirror_mode": {
    "name": "ipython",
    "version": 3
   },
   "file_extension": ".py",
   "mimetype": "text/x-python",
   "name": "python",
   "nbconvert_exporter": "python",
   "pygments_lexer": "ipython3",
   "version": "3.10.5"
  },
  "orig_nbformat": 4
 },
 "nbformat": 4,
 "nbformat_minor": 2
}
