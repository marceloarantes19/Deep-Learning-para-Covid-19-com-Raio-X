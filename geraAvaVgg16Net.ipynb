{
 "cells": [
  {
   "cell_type": "code",
   "execution_count": 1,
   "metadata": {},
   "outputs": [],
   "source": [
    "from keras.preprocessing.image import ImageDataGenerator\n",
    "import pandas as pd\n",
    "import os\n",
    "import matplotlib.pyplot as plt \n",
    "import numpy as np\n",
    "from sklearn.metrics import confusion_matrix, f1_score, precision_score, accuracy_score, recall_score \n",
    "from dataFrameCovid import DataFrameCovid as dfc\n",
    "from sklearn.metrics import classification_report\n",
    "from geraArquivo1 import GeraArquivo as ga"
   ]
  },
  {
   "cell_type": "code",
   "execution_count": 2,
   "metadata": {},
   "outputs": [
    {
     "name": "stderr",
     "output_type": "stream",
     "text": [
      "d:\\DropB\\Faculeste\\TCC\\codigos\\dataFrameCovid.py:27: FutureWarning: The frame.append method is deprecated and will be removed from pandas in a future version. Use pandas.concat instead.\n",
      "  df = df1.append(df2)\n"
     ]
    }
   ],
   "source": [
    "# Monta dataframe com nome dos arquivos\n",
    "df = dfc.getDf()"
   ]
  },
  {
   "cell_type": "code",
   "execution_count": 3,
   "metadata": {},
   "outputs": [
    {
     "data": {
      "text/plain": [
       "(27, 6)"
      ]
     },
     "execution_count": 3,
     "metadata": {},
     "output_type": "execute_result"
    }
   ],
   "source": [
    "# Variáveis de controle\n",
    "nImagens = len(df)\n",
    "percentual = 0.8\n",
    "tamanhoDoLote = 200\n",
    "epocas = 50\n",
    "passosPorEpoca = int(nImagens*percentual // tamanhoDoLote)\n",
    "passosPorValidacao = int(nImagens*(1.0 - percentual) // tamanhoDoLote)\n",
    "width = 64\n",
    "height = 64\n",
    "depth = 3\n",
    "classes = 2\n",
    "inputShape = (height, width, depth)\n",
    "passosPorEpoca, passosPorValidacao"
   ]
  },
  {
   "cell_type": "code",
   "execution_count": 4,
   "metadata": {},
   "outputs": [],
   "source": [
    "# gerando dataframes de treinamento e de teste\n",
    "dfTreinamento = df.sample(frac=0.8, random_state=100) # 70% de treinamento\n",
    "dfTeste = df[~df['arquivo'].isin(dfTreinamento['arquivo'])]     # 30% de teste"
   ]
  },
  {
   "cell_type": "code",
   "execution_count": 5,
   "metadata": {},
   "outputs": [
    {
     "name": "stdout",
     "output_type": "stream",
     "text": [
      "Found 5440 validated image filenames belonging to 2 classes.\n",
      "Found 1360 validated image filenames belonging to 2 classes.\n"
     ]
    }
   ],
   "source": [
    "imgGen = ImageDataGenerator(rescale = 1./255, \n",
    "                            shear_range=0.25, \n",
    "                            zoom_range = 0.25, \n",
    "                            horizontal_flip = True)\n",
    "\n",
    "conjTreinamento = imgGen.flow_from_dataframe(dfTreinamento, \"D:/DropB/Faculeste/TCC/Imagens/dataFrame\", \n",
    "                                  x_col = 'arquivo',\n",
    "                                  y_col = 'categoria',\n",
    "                                  target_size=(width, height), \n",
    "                                  batch_size=tamanhoDoLote, \n",
    "                                  class_mode='categorical')\n",
    "\n",
    "conjTeste = imgGen.flow_from_dataframe(dfTeste, \"D:/DropB/Faculeste/TCC/Imagens/dataFrame\", \n",
    "                                  x_col = 'arquivo',\n",
    "                                  y_col = 'categoria',\n",
    "                                  target_size=(width, height), \n",
    "                                  batch_size=tamanhoDoLote, \n",
    "                                  class_mode='categorical')"
   ]
  },
  {
   "cell_type": "code",
   "execution_count": 6,
   "metadata": {},
   "outputs": [
    {
     "name": "stdout",
     "output_type": "stream",
     "text": [
      "Model: \"sequential\"\n",
      "_________________________________________________________________\n",
      " Layer (type)                Output Shape              Param #   \n",
      "=================================================================\n",
      " conv2d (Conv2D)             (None, 64, 64, 64)        1792      \n",
      "                                                                 \n",
      " activation (Activation)     (None, 64, 64, 64)        0         \n",
      "                                                                 \n",
      " batch_normalization (BatchN  (None, 64, 64, 64)       256       \n",
      " ormalization)                                                   \n",
      "                                                                 \n",
      " dropout (Dropout)           (None, 64, 64, 64)        0         \n",
      "                                                                 \n",
      " conv2d_1 (Conv2D)           (None, 64, 64, 64)        36928     \n",
      "                                                                 \n",
      " activation_1 (Activation)   (None, 64, 64, 64)        0         \n",
      "                                                                 \n",
      " batch_normalization_1 (Batc  (None, 64, 64, 64)       256       \n",
      " hNormalization)                                                 \n",
      "                                                                 \n",
      " max_pooling2d (MaxPooling2D  (None, 32, 32, 64)       0         \n",
      " )                                                               \n",
      "                                                                 \n",
      " conv2d_2 (Conv2D)           (None, 32, 32, 128)       73856     \n",
      "                                                                 \n",
      " activation_2 (Activation)   (None, 32, 32, 128)       0         \n",
      "                                                                 \n",
      " batch_normalization_2 (Batc  (None, 32, 32, 128)      512       \n",
      " hNormalization)                                                 \n",
      "                                                                 \n",
      " dropout_1 (Dropout)         (None, 32, 32, 128)       0         \n",
      "                                                                 \n",
      " conv2d_3 (Conv2D)           (None, 32, 32, 128)       147584    \n",
      "                                                                 \n",
      " activation_3 (Activation)   (None, 32, 32, 128)       0         \n",
      "                                                                 \n",
      " batch_normalization_3 (Batc  (None, 32, 32, 128)      512       \n",
      " hNormalization)                                                 \n",
      "                                                                 \n",
      " max_pooling2d_1 (MaxPooling  (None, 16, 16, 128)      0         \n",
      " 2D)                                                             \n",
      "                                                                 \n",
      " conv2d_4 (Conv2D)           (None, 16, 16, 256)       295168    \n",
      "                                                                 \n",
      " activation_4 (Activation)   (None, 16, 16, 256)       0         \n",
      "                                                                 \n",
      " batch_normalization_4 (Batc  (None, 16, 16, 256)      1024      \n",
      " hNormalization)                                                 \n",
      "                                                                 \n",
      " dropout_2 (Dropout)         (None, 16, 16, 256)       0         \n",
      "                                                                 \n",
      " conv2d_5 (Conv2D)           (None, 16, 16, 256)       590080    \n",
      "                                                                 \n",
      " activation_5 (Activation)   (None, 16, 16, 256)       0         \n",
      "                                                                 \n",
      " batch_normalization_5 (Batc  (None, 16, 16, 256)      1024      \n",
      " hNormalization)                                                 \n",
      "                                                                 \n",
      " dropout_3 (Dropout)         (None, 16, 16, 256)       0         \n",
      "                                                                 \n",
      " conv2d_6 (Conv2D)           (None, 16, 16, 256)       590080    \n",
      "                                                                 \n",
      " activation_6 (Activation)   (None, 16, 16, 256)       0         \n",
      "                                                                 \n",
      " batch_normalization_6 (Batc  (None, 16, 16, 256)      1024      \n",
      " hNormalization)                                                 \n",
      "                                                                 \n",
      " max_pooling2d_2 (MaxPooling  (None, 8, 8, 256)        0         \n",
      " 2D)                                                             \n",
      "                                                                 \n",
      " conv2d_7 (Conv2D)           (None, 8, 8, 512)         1180160   \n",
      "                                                                 \n",
      " activation_7 (Activation)   (None, 8, 8, 512)         0         \n",
      "                                                                 \n",
      " batch_normalization_7 (Batc  (None, 8, 8, 512)        2048      \n",
      " hNormalization)                                                 \n",
      "                                                                 \n",
      " dropout_4 (Dropout)         (None, 8, 8, 512)         0         \n",
      "                                                                 \n",
      " conv2d_8 (Conv2D)           (None, 8, 8, 512)         2359808   \n",
      "                                                                 \n",
      " activation_8 (Activation)   (None, 8, 8, 512)         0         \n",
      "                                                                 \n",
      " batch_normalization_8 (Batc  (None, 8, 8, 512)        2048      \n",
      " hNormalization)                                                 \n",
      "                                                                 \n",
      " dropout_5 (Dropout)         (None, 8, 8, 512)         0         \n",
      "                                                                 \n",
      " conv2d_9 (Conv2D)           (None, 8, 8, 512)         2359808   \n",
      "                                                                 \n",
      " activation_9 (Activation)   (None, 8, 8, 512)         0         \n",
      "                                                                 \n",
      " batch_normalization_9 (Batc  (None, 8, 8, 512)        2048      \n",
      " hNormalization)                                                 \n",
      "                                                                 \n",
      " max_pooling2d_3 (MaxPooling  (None, 4, 4, 512)        0         \n",
      " 2D)                                                             \n",
      "                                                                 \n",
      " conv2d_10 (Conv2D)          (None, 4, 4, 512)         2359808   \n",
      "                                                                 \n",
      " activation_10 (Activation)  (None, 4, 4, 512)         0         \n",
      "                                                                 \n",
      " batch_normalization_10 (Bat  (None, 4, 4, 512)        2048      \n",
      " chNormalization)                                                \n",
      "                                                                 \n",
      " dropout_6 (Dropout)         (None, 4, 4, 512)         0         \n",
      "                                                                 \n",
      " conv2d_11 (Conv2D)          (None, 4, 4, 512)         2359808   \n",
      "                                                                 \n",
      " activation_11 (Activation)  (None, 4, 4, 512)         0         \n",
      "                                                                 \n",
      " batch_normalization_11 (Bat  (None, 4, 4, 512)        2048      \n",
      " chNormalization)                                                \n",
      "                                                                 \n",
      " dropout_7 (Dropout)         (None, 4, 4, 512)         0         \n",
      "                                                                 \n",
      " conv2d_12 (Conv2D)          (None, 4, 4, 512)         2359808   \n",
      "                                                                 \n",
      " activation_12 (Activation)  (None, 4, 4, 512)         0         \n",
      "                                                                 \n",
      " batch_normalization_12 (Bat  (None, 4, 4, 512)        2048      \n",
      " chNormalization)                                                \n",
      "                                                                 \n",
      " max_pooling2d_4 (MaxPooling  (None, 2, 2, 512)        0         \n",
      " 2D)                                                             \n",
      "                                                                 \n",
      " dropout_8 (Dropout)         (None, 2, 2, 512)         0         \n",
      "                                                                 \n",
      " flatten (Flatten)           (None, 2048)              0         \n",
      "                                                                 \n",
      " dense (Dense)               (None, 512)               1049088   \n",
      "                                                                 \n",
      " activation_13 (Activation)  (None, 512)               0         \n",
      "                                                                 \n",
      " batch_normalization_13 (Bat  (None, 512)              2048      \n",
      " chNormalization)                                                \n",
      "                                                                 \n",
      " dropout_9 (Dropout)         (None, 512)               0         \n",
      "                                                                 \n",
      " dense_1 (Dense)             (None, 2)                 1026      \n",
      "                                                                 \n",
      " activation_14 (Activation)  (None, 2)                 0         \n",
      "                                                                 \n",
      "=================================================================\n",
      "Total params: 15,783,746\n",
      "Trainable params: 15,774,274\n",
      "Non-trainable params: 9,472\n",
      "_________________________________________________________________\n"
     ]
    },
    {
     "name": "stderr",
     "output_type": "stream",
     "text": [
      "c:\\Users\\Marcelo\\AppData\\Local\\Programs\\Python\\Python310\\lib\\site-packages\\keras\\optimizers\\optimizer_v2\\gradient_descent.py:111: UserWarning: The `lr` argument is deprecated, use `learning_rate` instead.\n",
      "  super().__init__(name, **kwargs)\n"
     ]
    }
   ],
   "source": [
    "from modVgg16Net import Vgg16NetM\n",
    "vggClf = Vgg16NetM()\n",
    "vggClf = vggClf.build(width=width, height=height, depth=3, classes=2)\n",
    "vggClf.summary()"
   ]
  },
  {
   "cell_type": "code",
   "execution_count": 7,
   "metadata": {},
   "outputs": [
    {
     "name": "stdout",
     "output_type": "stream",
     "text": [
      "VGG 16 Net ***************************************************\n",
      "Epoch 1/50\n",
      "27/27 [==============================] - 478s 18s/step - loss: 1.0280 - accuracy: 0.6719 - val_loss: 593.4784 - val_accuracy: 0.4608\n",
      "Epoch 2/50\n",
      "27/27 [==============================] - 483s 18s/step - loss: 0.7422 - accuracy: 0.7779 - val_loss: 35.9737 - val_accuracy: 0.4458\n",
      "Epoch 3/50\n",
      "27/27 [==============================] - 485s 18s/step - loss: 0.6842 - accuracy: 0.8032 - val_loss: 1.4323 - val_accuracy: 0.4558\n",
      "Epoch 4/50\n",
      "27/27 [==============================] - 475s 18s/step - loss: 0.6519 - accuracy: 0.8261 - val_loss: 1.4981 - val_accuracy: 0.4192\n",
      "Epoch 5/50\n",
      "27/27 [==============================] - 478s 18s/step - loss: 0.6212 - accuracy: 0.8353 - val_loss: 1.7623 - val_accuracy: 0.4392\n",
      "Epoch 6/50\n",
      "27/27 [==============================] - 484s 18s/step - loss: 0.6048 - accuracy: 0.8422 - val_loss: 1.6075 - val_accuracy: 0.5000\n",
      "Epoch 7/50\n",
      "27/27 [==============================] - 484s 18s/step - loss: 0.5891 - accuracy: 0.8529 - val_loss: 0.9444 - val_accuracy: 0.6025\n",
      "Epoch 8/50\n",
      "27/27 [==============================] - 484s 18s/step - loss: 0.5703 - accuracy: 0.8599 - val_loss: 1.4226 - val_accuracy: 0.4975\n",
      "Epoch 9/50\n",
      "27/27 [==============================] - 482s 18s/step - loss: 0.5770 - accuracy: 0.8550 - val_loss: 1.1947 - val_accuracy: 0.5600\n",
      "Epoch 10/50\n",
      "27/27 [==============================] - 495s 18s/step - loss: 0.5509 - accuracy: 0.8715 - val_loss: 1.5585 - val_accuracy: 0.5075\n",
      "Epoch 11/50\n",
      "27/27 [==============================] - 484s 18s/step - loss: 0.5396 - accuracy: 0.8740 - val_loss: 1.2390 - val_accuracy: 0.6058\n",
      "Epoch 12/50\n",
      "27/27 [==============================] - 483s 18s/step - loss: 0.5237 - accuracy: 0.8761 - val_loss: 0.9209 - val_accuracy: 0.6275\n",
      "Epoch 13/50\n",
      "27/27 [==============================] - 481s 18s/step - loss: 0.5319 - accuracy: 0.8794 - val_loss: 1.1856 - val_accuracy: 0.5775\n",
      "Epoch 14/50\n",
      "27/27 [==============================] - 480s 18s/step - loss: 0.5166 - accuracy: 0.8830 - val_loss: 2.1819 - val_accuracy: 0.4658\n",
      "Epoch 15/50\n",
      "27/27 [==============================] - 480s 18s/step - loss: 0.5026 - accuracy: 0.8987 - val_loss: 1.4832 - val_accuracy: 0.5350\n",
      "Epoch 16/50\n",
      "27/27 [==============================] - 480s 18s/step - loss: 0.5085 - accuracy: 0.8922 - val_loss: 1.0706 - val_accuracy: 0.6483\n",
      "Epoch 17/50\n",
      "27/27 [==============================] - 482s 18s/step - loss: 0.5078 - accuracy: 0.8962 - val_loss: 1.9563 - val_accuracy: 0.5467\n",
      "Epoch 18/50\n",
      "27/27 [==============================] - 480s 18s/step - loss: 0.5036 - accuracy: 0.8954 - val_loss: 0.8801 - val_accuracy: 0.7050\n",
      "Epoch 19/50\n",
      "27/27 [==============================] - 480s 18s/step - loss: 0.4968 - accuracy: 0.9008 - val_loss: 0.9033 - val_accuracy: 0.7025\n",
      "Epoch 20/50\n",
      "27/27 [==============================] - 479s 18s/step - loss: 0.5007 - accuracy: 0.8937 - val_loss: 0.8750 - val_accuracy: 0.7650\n",
      "Epoch 21/50\n",
      "27/27 [==============================] - 479s 18s/step - loss: 0.4815 - accuracy: 0.9061 - val_loss: 1.1406 - val_accuracy: 0.6433\n",
      "Epoch 22/50\n",
      "27/27 [==============================] - 480s 18s/step - loss: 0.4764 - accuracy: 0.9101 - val_loss: 1.0455 - val_accuracy: 0.7508\n",
      "Epoch 23/50\n",
      "27/27 [==============================] - 481s 18s/step - loss: 0.5167 - accuracy: 0.8872 - val_loss: 0.7639 - val_accuracy: 0.7733\n",
      "Epoch 24/50\n",
      "27/27 [==============================] - 480s 18s/step - loss: 0.4729 - accuracy: 0.9118 - val_loss: 1.0980 - val_accuracy: 0.6675\n",
      "Epoch 25/50\n",
      "27/27 [==============================] - 480s 18s/step - loss: 0.4801 - accuracy: 0.9063 - val_loss: 0.7314 - val_accuracy: 0.7850\n",
      "Epoch 26/50\n",
      "27/27 [==============================] - 481s 18s/step - loss: 0.4693 - accuracy: 0.9094 - val_loss: 0.7788 - val_accuracy: 0.7650\n",
      "Epoch 27/50\n",
      "27/27 [==============================] - 480s 18s/step - loss: 0.4670 - accuracy: 0.9107 - val_loss: 0.8739 - val_accuracy: 0.7425\n",
      "Epoch 28/50\n",
      "27/27 [==============================] - 479s 18s/step - loss: 0.4657 - accuracy: 0.9134 - val_loss: 0.8487 - val_accuracy: 0.7508\n",
      "Epoch 29/50\n",
      "27/27 [==============================] - 480s 18s/step - loss: 0.4405 - accuracy: 0.9237 - val_loss: 0.9924 - val_accuracy: 0.6833\n",
      "Epoch 30/50\n",
      "27/27 [==============================] - 483s 18s/step - loss: 0.4490 - accuracy: 0.9177 - val_loss: 1.0766 - val_accuracy: 0.7008\n",
      "Epoch 31/50\n",
      "27/27 [==============================] - 484s 18s/step - loss: 0.4381 - accuracy: 0.9260 - val_loss: 0.9292 - val_accuracy: 0.7283\n",
      "Epoch 32/50\n",
      "27/27 [==============================] - 484s 18s/step - loss: 0.4495 - accuracy: 0.9202 - val_loss: 1.0469 - val_accuracy: 0.7342\n",
      "Epoch 33/50\n",
      "27/27 [==============================] - 483s 18s/step - loss: 0.4523 - accuracy: 0.9164 - val_loss: 0.7998 - val_accuracy: 0.7992\n",
      "Epoch 34/50\n",
      "27/27 [==============================] - 488s 18s/step - loss: 0.4339 - accuracy: 0.9237 - val_loss: 1.7968 - val_accuracy: 0.5275\n",
      "Epoch 35/50\n",
      "27/27 [==============================] - 483s 18s/step - loss: 0.4349 - accuracy: 0.9296 - val_loss: 1.1533 - val_accuracy: 0.7308\n",
      "Epoch 36/50\n",
      "27/27 [==============================] - 485s 18s/step - loss: 0.4361 - accuracy: 0.9248 - val_loss: 0.9818 - val_accuracy: 0.7367\n",
      "Epoch 37/50\n",
      "27/27 [==============================] - 484s 18s/step - loss: 0.4326 - accuracy: 0.9233 - val_loss: 0.8068 - val_accuracy: 0.7667\n",
      "Epoch 38/50\n",
      "27/27 [==============================] - 486s 18s/step - loss: 0.4231 - accuracy: 0.9355 - val_loss: 0.7387 - val_accuracy: 0.8192\n",
      "Epoch 39/50\n",
      "27/27 [==============================] - 485s 18s/step - loss: 0.4421 - accuracy: 0.9216 - val_loss: 0.9388 - val_accuracy: 0.7742\n",
      "Epoch 40/50\n",
      "27/27 [==============================] - 498s 18s/step - loss: 0.4130 - accuracy: 0.9348 - val_loss: 1.1982 - val_accuracy: 0.7142\n",
      "Epoch 41/50\n",
      "27/27 [==============================] - 485s 18s/step - loss: 0.4206 - accuracy: 0.9290 - val_loss: 1.1614 - val_accuracy: 0.6967\n",
      "Epoch 42/50\n",
      "27/27 [==============================] - 492s 18s/step - loss: 0.4104 - accuracy: 0.9359 - val_loss: 0.6750 - val_accuracy: 0.8233\n",
      "Epoch 43/50\n",
      "27/27 [==============================] - 485s 18s/step - loss: 0.4127 - accuracy: 0.9344 - val_loss: 1.1494 - val_accuracy: 0.7025\n",
      "Epoch 44/50\n",
      "27/27 [==============================] - 487s 18s/step - loss: 0.4096 - accuracy: 0.9353 - val_loss: 2.1460 - val_accuracy: 0.5367\n",
      "Epoch 45/50\n",
      "27/27 [==============================] - 484s 18s/step - loss: 0.4138 - accuracy: 0.9349 - val_loss: 1.3493 - val_accuracy: 0.7408\n",
      "Epoch 46/50\n",
      "27/27 [==============================] - 483s 18s/step - loss: 0.4100 - accuracy: 0.9361 - val_loss: 0.8465 - val_accuracy: 0.8092\n",
      "Epoch 47/50\n",
      "27/27 [==============================] - 497s 18s/step - loss: 0.3943 - accuracy: 0.9374 - val_loss: 0.8586 - val_accuracy: 0.7925\n",
      "Epoch 48/50\n",
      "27/27 [==============================] - 484s 18s/step - loss: 0.4042 - accuracy: 0.9393 - val_loss: 1.1690 - val_accuracy: 0.7842\n",
      "Epoch 49/50\n",
      "27/27 [==============================] - 487s 18s/step - loss: 0.3975 - accuracy: 0.9389 - val_loss: 0.9907 - val_accuracy: 0.7833\n",
      "Epoch 50/50\n",
      "27/27 [==============================] - 481s 18s/step - loss: 0.4024 - accuracy: 0.9374 - val_loss: 0.8477 - val_accuracy: 0.8067\n"
     ]
    }
   ],
   "source": [
    "print(\"VGG 16 Net ***************************************************\")\n",
    "h1 = vggClf.fit(x=conjTreinamento, steps_per_epoch=passosPorEpoca, epochs=epocas, validation_data=conjTeste, validation_steps=passosPorValidacao, verbose=1).history"
   ]
  },
  {
   "cell_type": "code",
   "execution_count": 8,
   "metadata": {},
   "outputs": [
    {
     "data": {
      "image/png": "[encoded data removed]",
      "text/plain": [
       "<Figure size 432x288 with 1 Axes>"
      ]
     },
     "metadata": {
      "needs_background": "light"
     },
     "output_type": "display_data"
    }
   ],
   "source": [
    "# Gráfico de Acurácia\n",
    "plt.style.use(\"ggplot\")\n",
    "plt.figure()\n",
    "plt.plot(np.arange(0, epocas), h1[\"accuracy\"], label=\"Acuracia\")\n",
    "#plt.plot(np.arange(0, epc), h1[\"loss\"], label=\"Perda\")\n",
    "plt.plot(np.arange(0, epocas), h1[\"val_accuracy\"], label=\"Acurácia de Validação\")\n",
    "#plt.plot(np.arange(0, epc), h1[\"val_loss\"], label=\"Perda na Validação\")\n",
    "plt.title(\"VGG 16 - Net\")\n",
    "plt.xlabel(\"Épocas\")\n",
    "plt.ylabel(\"Valores\")\n",
    "plt.legend()\n",
    "plt.show()"
   ]
  },
  {
   "cell_type": "code",
   "execution_count": 9,
   "metadata": {},
   "outputs": [
    {
     "name": "stdout",
     "output_type": "stream",
     "text": [
      "7/7 [==============================] - 4s 508ms/step\n",
      "              precision    recall  f1-score   support\n",
      "\n",
      "   Não Covid       0.89      0.86      0.88       116\n",
      "       Covid       0.82      0.86      0.84        84\n",
      "\n",
      "    accuracy                           0.86       200\n",
      "   macro avg       0.86      0.86      0.86       200\n",
      "weighted avg       0.86      0.86      0.86       200\n",
      "\n"
     ]
    }
   ],
   "source": [
    "prdVgg = vggClf.predict(conjTeste[0][0])\n",
    "categorias = []\n",
    "for i in conjTeste[0][1]:\n",
    "    categorias.append(0 if i[0] > 0.0 else 1)\n",
    "predVggNet = []\n",
    "for i in prdVgg:\n",
    "    predVggNet.append(0 if i[0] >= 0.5 else 1)\n",
    "print(classification_report(categorias, predVggNet, target_names=[\"Não Covid\", \"Covid\"]))"
   ]
  },
  {
   "cell_type": "code",
   "execution_count": 10,
   "metadata": {},
   "outputs": [],
   "source": [
    "ga.geraHistorico(\"arquivos/arqVggNet\"+str(epocas)+\".csv\", h1)\n",
    "ga.geraPredicao(\"arquivos/arqPredVggNet\"+str(tamanhoDoLote)+\".csv\", categorias, predVggNet)"
   ]
  },
  {
   "cell_type": "code",
   "execution_count": 11,
   "metadata": {},
   "outputs": [
    {
     "data": {
      "text/plain": [
       "'\\ndf1 = dfc.getDfPredicao()\\nprdTmnh = len(df1)\\nconjPred = imgGen.flow_from_dataframe(df1, \"D:/DropB/Faculeste/TCC/Imagens/dataFrame\", \\n                                x_col = \\'arquivo\\',\\n                                y_col = \\'categoria\\',\\n                                target_size=(width, height), \\n                                batch_size=prdTmnh, \\n                                class_mode=\\'categorical\\')\\nprdLNt = lntClf.predict(conjPred[0][0])\\ncategorias = []\\nfor i in conjPred[0][1]:\\n    categorias.append(0 if i[0] > 0.0 else 1)\\nprdLNet = []\\nfor i in prdLNt:\\n    prdLNet.append(0 if i[0] >= 0.5 else 1)\\nprint(classification_report(categorias, prdLNet, target_names=[\"Não Covid\", \"Covid\"]))\\n'"
      ]
     },
     "execution_count": 11,
     "metadata": {},
     "output_type": "execute_result"
    }
   ],
   "source": [
    "'''\n",
    "df1 = dfc.getDfPredicao()\n",
    "prdTmnh = len(df1)\n",
    "conjPred = imgGen.flow_from_dataframe(df1, \"D:/DropB/Faculeste/TCC/Imagens/dataFrame\", \n",
    "                                x_col = 'arquivo',\n",
    "                                y_col = 'categoria',\n",
    "                                target_size=(width, height), \n",
    "                                batch_size=prdTmnh, \n",
    "                                class_mode='categorical')\n",
    "prdLNt = lntClf.predict(conjPred[0][0])\n",
    "categorias = []\n",
    "for i in conjPred[0][1]:\n",
    "    categorias.append(0 if i[0] > 0.0 else 1)\n",
    "prdLNet = []\n",
    "for i in prdLNt:\n",
    "    prdLNet.append(0 if i[0] >= 0.5 else 1)\n",
    "print(classification_report(categorias, prdLNet, target_names=[\"Não Covid\", \"Covid\"]))\n",
    "'''\n"
   ]
  }
 ],
 "metadata": {
  "kernelspec": {
   "display_name": "Python 3",
   "language": "python",
   "name": "python3"
  },
  "language_info": {
   "codemirror_mode": {
    "name": "ipython",
    "version": 3
   },
   "file_extension": ".py",
   "mimetype": "text/x-python",
   "name": "python",
   "nbconvert_exporter": "python",
   "pygments_lexer": "ipython3",
   "version": "3.10.5"
  },
  "orig_nbformat": 4
 },
 "nbformat": 4,
 "nbformat_minor": 2
}
