{
 "cells": [
  {
   "cell_type": "code",
   "execution_count": 1,
   "metadata": {},
   "outputs": [],
   "source": [
    "from keras.preprocessing.image import ImageDataGenerator\n",
    "import pandas as pd\n",
    "import os\n",
    "import matplotlib.pyplot as plt \n",
    "import numpy as np\n",
    "from sklearn.metrics import confusion_matrix, f1_score, precision_score, accuracy_score, recall_score \n",
    "from dataFrameCovid import DataFrameCovid as dfc\n",
    "from sklearn.metrics import classification_report\n",
    "from geraArquivo1 import GeraArquivo as ga"
   ]
  },
  {
   "cell_type": "code",
   "execution_count": 2,
   "metadata": {},
   "outputs": [
    {
     "name": "stderr",
     "output_type": "stream",
     "text": [
      "d:\\DropB\\Faculeste\\TCC\\codigos\\dataFrameCovid.py:27: FutureWarning: The frame.append method is deprecated and will be removed from pandas in a future version. Use pandas.concat instead.\n",
      "  df = df1.append(df2)\n"
     ]
    }
   ],
   "source": [
    "# Monta dataframe com nome dos arquivos\n",
    "df = dfc.getDf()"
   ]
  },
  {
   "cell_type": "code",
   "execution_count": 3,
   "metadata": {},
   "outputs": [
    {
     "data": {
      "text/plain": [
       "(27, 6)"
      ]
     },
     "execution_count": 3,
     "metadata": {},
     "output_type": "execute_result"
    }
   ],
   "source": [
    "# Variáveis de controle\n",
    "nImagens = len(df)\n",
    "percentual = 0.8\n",
    "tamanhoDoLote = 200\n",
    "epocas = 50\n",
    "passosPorEpoca = int(nImagens*percentual // tamanhoDoLote)\n",
    "passosPorValidacao = int(nImagens*(1.0 - percentual) // tamanhoDoLote)\n",
    "width = 28\n",
    "height = 28\n",
    "depth = 3\n",
    "classes = 2\n",
    "inputShape = (height, width, depth)\n",
    "passosPorEpoca, passosPorValidacao"
   ]
  },
  {
   "cell_type": "code",
   "execution_count": 4,
   "metadata": {},
   "outputs": [],
   "source": [
    "# gerando dataframes de treinamento e de teste\n",
    "dfTreinamento = df.sample(frac=0.8, random_state=100) # 70% de treinamento\n",
    "dfTeste = df[~df['arquivo'].isin(dfTreinamento['arquivo'])]     # 30% de teste"
   ]
  },
  {
   "cell_type": "code",
   "execution_count": 5,
   "metadata": {},
   "outputs": [
    {
     "name": "stdout",
     "output_type": "stream",
     "text": [
      "Found 5440 validated image filenames belonging to 2 classes.\n",
      "Found 1360 validated image filenames belonging to 2 classes.\n"
     ]
    }
   ],
   "source": [
    "imgGen = ImageDataGenerator(rescale = 1./255, \n",
    "                            shear_range=0.25, \n",
    "                            zoom_range = 0.25, \n",
    "                            horizontal_flip = True)\n",
    "\n",
    "conjTreinamento = imgGen.flow_from_dataframe(dfTreinamento, \"D:/DropB/Faculeste/TCC/Imagens/dataFrame\", \n",
    "                                  x_col = 'arquivo',\n",
    "                                  y_col = 'categoria',\n",
    "                                  target_size=(width, height), \n",
    "                                  batch_size=tamanhoDoLote, \n",
    "                                  class_mode='categorical')\n",
    "\n",
    "conjTeste = imgGen.flow_from_dataframe(dfTeste, \"D:/DropB/Faculeste/TCC/Imagens/dataFrame\", \n",
    "                                  x_col = 'arquivo',\n",
    "                                  y_col = 'categoria',\n",
    "                                  target_size=(width, height), \n",
    "                                  batch_size=tamanhoDoLote, \n",
    "                                  class_mode='categorical')"
   ]
  },
  {
   "cell_type": "code",
   "execution_count": 6,
   "metadata": {},
   "outputs": [
    {
     "name": "stdout",
     "output_type": "stream",
     "text": [
      "Model: \"sequential\"\n",
      "_________________________________________________________________\n",
      " Layer (type)                Output Shape              Param #   \n",
      "=================================================================\n",
      " conv2d (Conv2D)             (None, 28, 28, 6)         456       \n",
      "                                                                 \n",
      " average_pooling2d (AverageP  (None, 14, 14, 6)        0         \n",
      " ooling2D)                                                       \n",
      "                                                                 \n",
      " conv2d_1 (Conv2D)           (None, 10, 10, 6)         906       \n",
      "                                                                 \n",
      " average_pooling2d_1 (Averag  (None, 5, 5, 6)          0         \n",
      " ePooling2D)                                                     \n",
      "                                                                 \n",
      " dense (Dense)               (None, 5, 5, 120)         840       \n",
      "                                                                 \n",
      " flatten (Flatten)           (None, 3000)              0         \n",
      "                                                                 \n",
      " dense_1 (Dense)             (None, 84)                252084    \n",
      "                                                                 \n",
      " dense_2 (Dense)             (None, 2)                 170       \n",
      "                                                                 \n",
      "=================================================================\n",
      "Total params: 254,456\n",
      "Trainable params: 254,456\n",
      "Non-trainable params: 0\n",
      "_________________________________________________________________\n"
     ]
    },
    {
     "name": "stderr",
     "output_type": "stream",
     "text": [
      "c:\\Users\\Marcelo\\AppData\\Local\\Programs\\Python\\Python310\\lib\\site-packages\\keras\\optimizers\\optimizer_v2\\gradient_descent.py:111: UserWarning: The `lr` argument is deprecated, use `learning_rate` instead.\n",
      "  super().__init__(name, **kwargs)\n"
     ]
    }
   ],
   "source": [
    "# Lenet5 - Ajustar imagens para 32 x 32\n",
    "from modLeNet import LeNetM\n",
    "lntClf = LeNetM()\n",
    "lntClf = lntClf.build(h=height, w=width, prof=3, cl=2)\n",
    "lntClf.summary()"
   ]
  },
  {
   "cell_type": "code",
   "execution_count": 7,
   "metadata": {},
   "outputs": [
    {
     "name": "stdout",
     "output_type": "stream",
     "text": [
      "LeNet ***************************************************\n",
      "Epoch 1/50\n",
      "27/27 [==============================] - 18s 655ms/step - loss: 0.9380 - accuracy: 0.5153 - val_loss: 0.6989 - val_accuracy: 0.4625\n",
      "Epoch 2/50\n",
      "27/27 [==============================] - 17s 618ms/step - loss: 0.6976 - accuracy: 0.5202 - val_loss: 0.6901 - val_accuracy: 0.5417\n",
      "Epoch 3/50\n",
      "27/27 [==============================] - 16s 611ms/step - loss: 0.6919 - accuracy: 0.5267 - val_loss: 0.6892 - val_accuracy: 0.5450\n",
      "Epoch 4/50\n",
      "27/27 [==============================] - 16s 605ms/step - loss: 0.6921 - accuracy: 0.5321 - val_loss: 0.7097 - val_accuracy: 0.4550\n",
      "Epoch 5/50\n",
      "27/27 [==============================] - 17s 621ms/step - loss: 0.6938 - accuracy: 0.5198 - val_loss: 0.6983 - val_accuracy: 0.4625\n",
      "Epoch 6/50\n",
      "27/27 [==============================] - 17s 622ms/step - loss: 0.6946 - accuracy: 0.5275 - val_loss: 0.6903 - val_accuracy: 0.5383\n",
      "Epoch 7/50\n",
      "27/27 [==============================] - 16s 611ms/step - loss: 0.6945 - accuracy: 0.5359 - val_loss: 0.6906 - val_accuracy: 0.5375\n",
      "Epoch 8/50\n",
      "27/27 [==============================] - 16s 608ms/step - loss: 0.6941 - accuracy: 0.5223 - val_loss: 0.6889 - val_accuracy: 0.5483\n",
      "Epoch 9/50\n",
      "27/27 [==============================] - 17s 635ms/step - loss: 0.6933 - accuracy: 0.5317 - val_loss: 0.6969 - val_accuracy: 0.4633\n",
      "Epoch 10/50\n",
      "27/27 [==============================] - 17s 621ms/step - loss: 0.6921 - accuracy: 0.5357 - val_loss: 0.6932 - val_accuracy: 0.4667\n",
      "Epoch 11/50\n",
      "27/27 [==============================] - 16s 611ms/step - loss: 0.6934 - accuracy: 0.5218 - val_loss: 0.6935 - val_accuracy: 0.5358\n",
      "Epoch 12/50\n",
      "27/27 [==============================] - 16s 612ms/step - loss: 0.6920 - accuracy: 0.5317 - val_loss: 0.6899 - val_accuracy: 0.5408\n",
      "Epoch 13/50\n",
      "27/27 [==============================] - 17s 621ms/step - loss: 0.6922 - accuracy: 0.5321 - val_loss: 0.6890 - val_accuracy: 0.5458\n",
      "Epoch 14/50\n",
      "27/27 [==============================] - 16s 607ms/step - loss: 0.6928 - accuracy: 0.5324 - val_loss: 0.6937 - val_accuracy: 0.5383\n",
      "Epoch 15/50\n",
      "27/27 [==============================] - 17s 626ms/step - loss: 0.6916 - accuracy: 0.5381 - val_loss: 0.6913 - val_accuracy: 0.5342\n",
      "Epoch 16/50\n",
      "27/27 [==============================] - 17s 641ms/step - loss: 0.6931 - accuracy: 0.5302 - val_loss: 0.6905 - val_accuracy: 0.5367\n",
      "Epoch 17/50\n",
      "27/27 [==============================] - 16s 611ms/step - loss: 0.6925 - accuracy: 0.5380 - val_loss: 0.6979 - val_accuracy: 0.4583\n",
      "Epoch 18/50\n",
      "27/27 [==============================] - 16s 614ms/step - loss: 0.6911 - accuracy: 0.5389 - val_loss: 0.6956 - val_accuracy: 0.5400\n",
      "Epoch 19/50\n",
      "27/27 [==============================] - 16s 608ms/step - loss: 0.6952 - accuracy: 0.5300 - val_loss: 0.6926 - val_accuracy: 0.5367\n",
      "Epoch 20/50\n",
      "27/27 [==============================] - 17s 638ms/step - loss: 0.6914 - accuracy: 0.5311 - val_loss: 0.6902 - val_accuracy: 0.5392\n",
      "Epoch 21/50\n",
      "27/27 [==============================] - 16s 608ms/step - loss: 0.6919 - accuracy: 0.5382 - val_loss: 0.6887 - val_accuracy: 0.5475\n",
      "Epoch 22/50\n",
      "27/27 [==============================] - 16s 607ms/step - loss: 0.6899 - accuracy: 0.5433 - val_loss: 0.6919 - val_accuracy: 0.5383\n",
      "Epoch 23/50\n",
      "27/27 [==============================] - 17s 621ms/step - loss: 0.6929 - accuracy: 0.5340 - val_loss: 0.6906 - val_accuracy: 0.5408\n",
      "Epoch 24/50\n",
      "27/27 [==============================] - 16s 613ms/step - loss: 0.6909 - accuracy: 0.5399 - val_loss: 0.6907 - val_accuracy: 0.5350\n",
      "Epoch 25/50\n",
      "27/27 [==============================] - 16s 612ms/step - loss: 0.6911 - accuracy: 0.5324 - val_loss: 0.6905 - val_accuracy: 0.5383\n",
      "Epoch 26/50\n",
      "27/27 [==============================] - 16s 613ms/step - loss: 0.6901 - accuracy: 0.5422 - val_loss: 0.6916 - val_accuracy: 0.5367\n",
      "Epoch 27/50\n",
      "27/27 [==============================] - 16s 611ms/step - loss: 0.6914 - accuracy: 0.5385 - val_loss: 0.6893 - val_accuracy: 0.5442\n",
      "Epoch 28/50\n",
      "27/27 [==============================] - 17s 619ms/step - loss: 0.6903 - accuracy: 0.5418 - val_loss: 0.6910 - val_accuracy: 0.5342\n",
      "Epoch 29/50\n",
      "27/27 [==============================] - 17s 630ms/step - loss: 0.6942 - accuracy: 0.5208 - val_loss: 0.6950 - val_accuracy: 0.4608\n",
      "Epoch 30/50\n",
      "27/27 [==============================] - 16s 611ms/step - loss: 0.6937 - accuracy: 0.5303 - val_loss: 0.6885 - val_accuracy: 0.5483\n",
      "Epoch 31/50\n",
      "27/27 [==============================] - 18s 662ms/step - loss: 0.6917 - accuracy: 0.5292 - val_loss: 0.6917 - val_accuracy: 0.5317\n",
      "Epoch 32/50\n",
      "27/27 [==============================] - 17s 619ms/step - loss: 0.6923 - accuracy: 0.5336 - val_loss: 0.6949 - val_accuracy: 0.4650\n",
      "Epoch 33/50\n",
      "27/27 [==============================] - 16s 611ms/step - loss: 0.6913 - accuracy: 0.5292 - val_loss: 0.6908 - val_accuracy: 0.5358\n",
      "Epoch 34/50\n",
      "27/27 [==============================] - 17s 619ms/step - loss: 0.6924 - accuracy: 0.5389 - val_loss: 0.6908 - val_accuracy: 0.5450\n",
      "Epoch 35/50\n",
      "27/27 [==============================] - 17s 637ms/step - loss: 0.6912 - accuracy: 0.5422 - val_loss: 0.6898 - val_accuracy: 0.5408\n",
      "Epoch 36/50\n",
      "27/27 [==============================] - 17s 615ms/step - loss: 0.6914 - accuracy: 0.5365 - val_loss: 0.6909 - val_accuracy: 0.5392\n",
      "Epoch 37/50\n",
      "27/27 [==============================] - 16s 612ms/step - loss: 0.6905 - accuracy: 0.5448 - val_loss: 0.6948 - val_accuracy: 0.4617\n",
      "Epoch 38/50\n",
      "27/27 [==============================] - 17s 621ms/step - loss: 0.6897 - accuracy: 0.5315 - val_loss: 0.6906 - val_accuracy: 0.5367\n",
      "Epoch 39/50\n",
      "27/27 [==============================] - 17s 631ms/step - loss: 0.6921 - accuracy: 0.5405 - val_loss: 0.6906 - val_accuracy: 0.5417\n",
      "Epoch 40/50\n",
      "27/27 [==============================] - 17s 626ms/step - loss: 0.6906 - accuracy: 0.5366 - val_loss: 0.6926 - val_accuracy: 0.5383\n",
      "Epoch 41/50\n",
      "27/27 [==============================] - 17s 641ms/step - loss: 0.6907 - accuracy: 0.5370 - val_loss: 0.6913 - val_accuracy: 0.5375\n",
      "Epoch 42/50\n",
      "27/27 [==============================] - 17s 631ms/step - loss: 0.6917 - accuracy: 0.5427 - val_loss: 0.6892 - val_accuracy: 0.5450\n",
      "Epoch 43/50\n",
      "27/27 [==============================] - 16s 613ms/step - loss: 0.6916 - accuracy: 0.5382 - val_loss: 0.6907 - val_accuracy: 0.5375\n",
      "Epoch 44/50\n",
      "27/27 [==============================] - 16s 611ms/step - loss: 0.6919 - accuracy: 0.5363 - val_loss: 0.6887 - val_accuracy: 0.5475\n",
      "Epoch 45/50\n",
      "27/27 [==============================] - 17s 630ms/step - loss: 0.6906 - accuracy: 0.5357 - val_loss: 0.6943 - val_accuracy: 0.5392\n",
      "Epoch 46/50\n",
      "27/27 [==============================] - 16s 612ms/step - loss: 0.6918 - accuracy: 0.5410 - val_loss: 0.6930 - val_accuracy: 0.5350\n",
      "Epoch 47/50\n",
      "27/27 [==============================] - 16s 626ms/step - loss: 0.6906 - accuracy: 0.5376 - val_loss: 0.6904 - val_accuracy: 0.5408\n",
      "Epoch 48/50\n",
      "27/27 [==============================] - 17s 625ms/step - loss: 0.6924 - accuracy: 0.5220 - val_loss: 0.6943 - val_accuracy: 0.5383\n",
      "Epoch 49/50\n",
      "27/27 [==============================] - 16s 613ms/step - loss: 0.6903 - accuracy: 0.5382 - val_loss: 0.6926 - val_accuracy: 0.5467\n",
      "Epoch 50/50\n",
      "27/27 [==============================] - 16s 612ms/step - loss: 0.6912 - accuracy: 0.5427 - val_loss: 0.6891 - val_accuracy: 0.5450\n"
     ]
    }
   ],
   "source": [
    "print(\"LeNet ***************************************************\")\n",
    "h1 = lntClf.fit(x=conjTreinamento, steps_per_epoch=passosPorEpoca, epochs=epocas, validation_data=conjTeste, validation_steps=passosPorValidacao, verbose=1).history"
   ]
  },
  {
   "cell_type": "code",
   "execution_count": 8,
   "metadata": {},
   "outputs": [
    {
     "data": {
      "image/png": "[encoded data removed]",
      "text/plain": [
       "<Figure size 432x288 with 1 Axes>"
      ]
     },
     "metadata": {
      "needs_background": "light"
     },
     "output_type": "display_data"
    }
   ],
   "source": [
    "# Gráfico de Acurácia\n",
    "plt.style.use(\"ggplot\")\n",
    "plt.figure()\n",
    "plt.plot(np.arange(0, epocas), h1[\"accuracy\"], label=\"Acuracia\")\n",
    "plt.plot(np.arange(0, epocas), h1[\"val_accuracy\"], label=\"Acurácia de Validação\")\n",
    "plt.title(\"LeNet N - Acurácia\")\n",
    "plt.xlabel(\"Épocas\")\n",
    "plt.ylabel(\"Acurácia\")\n",
    "plt.legend()\n",
    "plt.show()"
   ]
  },
  {
   "cell_type": "code",
   "execution_count": 9,
   "metadata": {},
   "outputs": [
    {
     "name": "stdout",
     "output_type": "stream",
     "text": [
      "7/7 [==============================] - 0s 4ms/step\n",
      "              precision    recall  f1-score   support\n",
      "\n",
      "   Não Covid       0.47      1.00      0.63        93\n",
      "       Covid       0.00      0.00      0.00       107\n",
      "\n",
      "    accuracy                           0.47       200\n",
      "   macro avg       0.23      0.50      0.32       200\n",
      "weighted avg       0.22      0.47      0.30       200\n",
      "\n"
     ]
    },
    {
     "name": "stderr",
     "output_type": "stream",
     "text": [
      "c:\\Users\\Marcelo\\AppData\\Local\\Programs\\Python\\Python310\\lib\\site-packages\\sklearn\\metrics\\_classification.py:1327: UndefinedMetricWarning: Precision and F-score are ill-defined and being set to 0.0 in labels with no predicted samples. Use `zero_division` parameter to control this behavior.\n",
      "  _warn_prf(average, modifier, msg_start, len(result))\n",
      "c:\\Users\\Marcelo\\AppData\\Local\\Programs\\Python\\Python310\\lib\\site-packages\\sklearn\\metrics\\_classification.py:1327: UndefinedMetricWarning: Precision and F-score are ill-defined and being set to 0.0 in labels with no predicted samples. Use `zero_division` parameter to control this behavior.\n",
      "  _warn_prf(average, modifier, msg_start, len(result))\n",
      "c:\\Users\\Marcelo\\AppData\\Local\\Programs\\Python\\Python310\\lib\\site-packages\\sklearn\\metrics\\_classification.py:1327: UndefinedMetricWarning: Precision and F-score are ill-defined and being set to 0.0 in labels with no predicted samples. Use `zero_division` parameter to control this behavior.\n",
      "  _warn_prf(average, modifier, msg_start, len(result))\n"
     ]
    }
   ],
   "source": [
    "prdLNt = lntClf.predict(conjTeste[0][0])\n",
    "categorias = []\n",
    "for i in conjTeste[0][1]:\n",
    "    categorias.append(0 if i[0] > 0.0 else 1)\n",
    "predLeNet = []\n",
    "for i in prdLNt:\n",
    "    predLeNet.append(0 if i[0] >= 0.5 else 1)\n",
    "print(classification_report(categorias, predLeNet, target_names=[\"Não Covid\", \"Covid\"]))"
   ]
  },
  {
   "cell_type": "code",
   "execution_count": 10,
   "metadata": {},
   "outputs": [],
   "source": [
    "ga.geraHistorico(\"arquivos/arqLeNetNN\"+str(epocas)+\".csv\", h1)\n",
    "ga.geraPredicao(\"arquivos/arqPredLeNetNN\"+str(tamanhoDoLote)+\".csv\", categorias, predLeNet)"
   ]
  }
 ],
 "metadata": {
  "kernelspec": {
   "display_name": "Python 3",
   "language": "python",
   "name": "python3"
  },
  "language_info": {
   "codemirror_mode": {
    "name": "ipython",
    "version": 3
   },
   "file_extension": ".py",
   "mimetype": "text/x-python",
   "name": "python",
   "nbconvert_exporter": "python",
   "pygments_lexer": "ipython3",
   "version": "3.10.5"
  },
  "orig_nbformat": 4
 },
 "nbformat": 4,
 "nbformat_minor": 2
}
