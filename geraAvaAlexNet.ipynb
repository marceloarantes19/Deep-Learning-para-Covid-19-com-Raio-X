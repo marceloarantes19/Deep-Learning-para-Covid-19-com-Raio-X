{
 "cells": [
  {
   "cell_type": "code",
   "execution_count": 7,
   "metadata": {},
   "outputs": [],
   "source": [
    "from keras.preprocessing.image import ImageDataGenerator\n",
    "import pandas as pd\n",
    "import os\n",
    "import matplotlib.pyplot as plt \n",
    "import numpy as np\n",
    "from sklearn.metrics import confusion_matrix, f1_score, precision_score, accuracy_score, recall_score \n",
    "from dataFrameCovid import DataFrameCovid as dfc\n",
    "from sklearn.metrics import classification_report\n",
    "from geraArquivo1 import GeraArquivo as ga"
   ]
  },
  {
   "cell_type": "code",
   "execution_count": 8,
   "metadata": {},
   "outputs": [
    {
     "name": "stderr",
     "output_type": "stream",
     "text": [
      "d:\\DropB\\Faculeste\\TCC\\codigos\\dataFrameCovid.py:27: FutureWarning: The frame.append method is deprecated and will be removed from pandas in a future version. Use pandas.concat instead.\n",
      "  df = df1.append(df2)\n"
     ]
    }
   ],
   "source": [
    "# Monta dataframe com nome dos arquivos\n",
    "df = dfc.getDf()"
   ]
  },
  {
   "cell_type": "code",
   "execution_count": 9,
   "metadata": {},
   "outputs": [
    {
     "data": {
      "text/plain": [
       "(27, 6)"
      ]
     },
     "execution_count": 9,
     "metadata": {},
     "output_type": "execute_result"
    }
   ],
   "source": [
    "# Variáveis de controle\n",
    "nImagens = len(df)\n",
    "percentual = 0.8\n",
    "tamanhoDoLote = 200\n",
    "epocas = 50\n",
    "passosPorEpoca = int(nImagens*percentual // tamanhoDoLote)\n",
    "passosPorValidacao = int(nImagens*(1.0 - percentual) // tamanhoDoLote)\n",
    "width = 32\n",
    "height = 32\n",
    "depth = 3\n",
    "classes = 2\n",
    "inputShape = (height, width, depth)\n",
    "passosPorEpoca, passosPorValidacao"
   ]
  },
  {
   "cell_type": "code",
   "execution_count": 10,
   "metadata": {},
   "outputs": [],
   "source": [
    "# gerando dataframes de treinamento e de teste\n",
    "dfTreinamento = df.sample(frac=0.8, random_state=100) # 70% de treinamento\n",
    "dfTeste = df[~df['arquivo'].isin(dfTreinamento['arquivo'])]     # 30% de teste"
   ]
  },
  {
   "cell_type": "code",
   "execution_count": 11,
   "metadata": {},
   "outputs": [
    {
     "name": "stdout",
     "output_type": "stream",
     "text": [
      "Found 5440 validated image filenames belonging to 2 classes.\n"
     ]
    },
    {
     "name": "stdout",
     "output_type": "stream",
     "text": [
      "Found 1360 validated image filenames belonging to 2 classes.\n"
     ]
    }
   ],
   "source": [
    "imgGen = ImageDataGenerator(rescale = 1./255, \n",
    "                            shear_range=0.25, \n",
    "                            zoom_range = 0.25, \n",
    "                            horizontal_flip = True)\n",
    "\n",
    "conjTreinamento = imgGen.flow_from_dataframe(dfTreinamento, \"D:/DropB/Faculeste/TCC/Imagens/dataFrame\", \n",
    "                                  x_col = 'arquivo',\n",
    "                                  y_col = 'categoria',\n",
    "                                  target_size=(width, height), \n",
    "                                  batch_size=tamanhoDoLote, \n",
    "                                  class_mode='categorical')\n",
    "\n",
    "conjTeste = imgGen.flow_from_dataframe(dfTeste, \"D:/DropB/Faculeste/TCC/Imagens/dataFrame\", \n",
    "                                  x_col = 'arquivo',\n",
    "                                  y_col = 'categoria',\n",
    "                                  target_size=(width, height), \n",
    "                                  batch_size=tamanhoDoLote, \n",
    "                                  class_mode='categorical')"
   ]
  },
  {
   "cell_type": "code",
   "execution_count": 12,
   "metadata": {},
   "outputs": [
    {
     "name": "stdout",
     "output_type": "stream",
     "text": [
      "Model: \"sequential\"\n",
      "_________________________________________________________________\n",
      " Layer (type)                Output Shape              Param #   \n",
      "=================================================================\n",
      " conv2d (Conv2D)             (None, 8, 8, 96)          34944     \n",
      "                                                                 \n",
      " max_pooling2d (MaxPooling2D  (None, 4, 4, 96)         0         \n",
      " )                                                               \n",
      "                                                                 \n",
      " conv2d_1 (Conv2D)           (None, 4, 4, 256)         614656    \n",
      "                                                                 \n",
      " max_pooling2d_1 (MaxPooling  (None, 2, 2, 256)        0         \n",
      " 2D)                                                             \n",
      "                                                                 \n",
      " conv2d_2 (Conv2D)           (None, 2, 2, 384)         885120    \n",
      "                                                                 \n",
      " conv2d_3 (Conv2D)           (None, 2, 2, 384)         1327488   \n",
      "                                                                 \n",
      " conv2d_4 (Conv2D)           (None, 2, 2, 256)         884992    \n",
      "                                                                 \n",
      " max_pooling2d_2 (MaxPooling  (None, 1, 1, 256)        0         \n",
      " 2D)                                                             \n",
      "                                                                 \n",
      " flatten (Flatten)           (None, 256)               0         \n",
      "                                                                 \n",
      " dense (Dense)               (None, 4096)              1052672   \n",
      "                                                                 \n",
      " dropout (Dropout)           (None, 4096)              0         \n",
      "                                                                 \n",
      " dense_1 (Dense)             (None, 4096)              16781312  \n",
      "                                                                 \n",
      " dropout_1 (Dropout)         (None, 4096)              0         \n",
      "                                                                 \n",
      " dense_2 (Dense)             (None, 2)                 8194      \n",
      "                                                                 \n",
      "=================================================================\n",
      "Total params: 21,589,378\n",
      "Trainable params: 21,589,378\n",
      "Non-trainable params: 0\n",
      "_________________________________________________________________\n"
     ]
    },
    {
     "name": "stderr",
     "output_type": "stream",
     "text": [
      "c:\\Users\\Marcelo\\AppData\\Local\\Programs\\Python\\Python310\\lib\\site-packages\\keras\\optimizers\\optimizer_v2\\gradient_descent.py:111: UserWarning: The `lr` argument is deprecated, use `learning_rate` instead.\n",
      "  super().__init__(name, **kwargs)\n"
     ]
    }
   ],
   "source": [
    "# Lenet5 - Ajustar imagens para 32 x 32\n",
    "from modAlexNet import AlexNet\n",
    "alxClf = AlexNet()\n",
    "alxClf = alxClf.build(height=height, width=width, depth=3, classes=2)\n",
    "alxClf.summary()"
   ]
  },
  {
   "cell_type": "code",
   "execution_count": 13,
   "metadata": {},
   "outputs": [
    {
     "name": "stdout",
     "output_type": "stream",
     "text": [
      "Alex Net ***************************************************\n",
      "Epoch 1/50\n",
      "27/27 [==============================] - 41s 1s/step - loss: 0.6838 - accuracy: 0.5487 - val_loss: 0.6574 - val_accuracy: 0.5675\n",
      "Epoch 2/50\n",
      "27/27 [==============================] - 42s 2s/step - loss: 0.6769 - accuracy: 0.5719 - val_loss: 0.6881 - val_accuracy: 0.6175\n",
      "Epoch 3/50\n",
      "27/27 [==============================] - 44s 2s/step - loss: 0.6640 - accuracy: 0.6092 - val_loss: 0.6341 - val_accuracy: 0.6483\n",
      "Epoch 4/50\n",
      "27/27 [==============================] - 44s 2s/step - loss: 0.6545 - accuracy: 0.6128 - val_loss: 0.6252 - val_accuracy: 0.6767\n",
      "Epoch 5/50\n",
      "27/27 [==============================] - 50s 2s/step - loss: 0.6399 - accuracy: 0.6225 - val_loss: 0.5954 - val_accuracy: 0.6775\n",
      "Epoch 6/50\n",
      "27/27 [==============================] - 45s 2s/step - loss: 0.6250 - accuracy: 0.6422 - val_loss: 0.7228 - val_accuracy: 0.5033\n",
      "Epoch 7/50\n",
      "27/27 [==============================] - 45s 2s/step - loss: 0.6280 - accuracy: 0.6410 - val_loss: 0.5617 - val_accuracy: 0.7075\n",
      "Epoch 8/50\n",
      "27/27 [==============================] - 54s 2s/step - loss: 0.5923 - accuracy: 0.6779 - val_loss: 0.5534 - val_accuracy: 0.7042\n",
      "Epoch 9/50\n",
      "27/27 [==============================] - 46s 2s/step - loss: 0.5546 - accuracy: 0.7116 - val_loss: 0.5555 - val_accuracy: 0.7092\n",
      "Epoch 10/50\n",
      "27/27 [==============================] - 47s 2s/step - loss: 0.5474 - accuracy: 0.7227 - val_loss: 0.5431 - val_accuracy: 0.7208\n",
      "Epoch 11/50\n",
      "27/27 [==============================] - 46s 2s/step - loss: 0.5221 - accuracy: 0.7456 - val_loss: 0.5613 - val_accuracy: 0.7292\n",
      "Epoch 12/50\n",
      "27/27 [==============================] - 47s 2s/step - loss: 0.5414 - accuracy: 0.7223 - val_loss: 0.5396 - val_accuracy: 0.7125\n",
      "Epoch 13/50\n",
      "27/27 [==============================] - 48s 2s/step - loss: 0.4967 - accuracy: 0.7454 - val_loss: 0.4871 - val_accuracy: 0.7375\n",
      "Epoch 14/50\n",
      "27/27 [==============================] - 47s 2s/step - loss: 0.5011 - accuracy: 0.7418 - val_loss: 0.5074 - val_accuracy: 0.7508\n",
      "Epoch 15/50\n",
      "27/27 [==============================] - 46s 2s/step - loss: 0.4709 - accuracy: 0.7634 - val_loss: 0.4896 - val_accuracy: 0.7358\n",
      "Epoch 16/50\n",
      "27/27 [==============================] - 44s 2s/step - loss: 0.4553 - accuracy: 0.7740 - val_loss: 0.4782 - val_accuracy: 0.7408\n",
      "Epoch 17/50\n",
      "27/27 [==============================] - 51s 2s/step - loss: 0.4368 - accuracy: 0.7865 - val_loss: 0.5858 - val_accuracy: 0.7467\n",
      "Epoch 18/50\n",
      "27/27 [==============================] - 53s 2s/step - loss: 0.4623 - accuracy: 0.7735 - val_loss: 0.4991 - val_accuracy: 0.7392\n",
      "Epoch 19/50\n",
      "27/27 [==============================] - 49s 2s/step - loss: 0.4361 - accuracy: 0.7817 - val_loss: 0.5143 - val_accuracy: 0.7008\n",
      "Epoch 20/50\n",
      "27/27 [==============================] - 54s 2s/step - loss: 0.4304 - accuracy: 0.7845 - val_loss: 0.4559 - val_accuracy: 0.7633\n",
      "Epoch 21/50\n",
      "27/27 [==============================] - 50s 2s/step - loss: 0.4077 - accuracy: 0.8073 - val_loss: 0.4342 - val_accuracy: 0.7783\n",
      "Epoch 22/50\n",
      "27/27 [==============================] - 45s 2s/step - loss: 0.4537 - accuracy: 0.7716 - val_loss: 0.4280 - val_accuracy: 0.7858\n",
      "Epoch 23/50\n",
      "27/27 [==============================] - 45s 2s/step - loss: 0.3954 - accuracy: 0.8116 - val_loss: 0.4536 - val_accuracy: 0.7908\n",
      "Epoch 24/50\n",
      "27/27 [==============================] - 45s 2s/step - loss: 0.5088 - accuracy: 0.7334 - val_loss: 0.6462 - val_accuracy: 0.6600\n",
      "Epoch 25/50\n",
      "27/27 [==============================] - 50s 2s/step - loss: 0.4476 - accuracy: 0.7880 - val_loss: 0.4062 - val_accuracy: 0.7908\n",
      "Epoch 26/50\n",
      "27/27 [==============================] - 44s 2s/step - loss: 0.4208 - accuracy: 0.7962 - val_loss: 0.4084 - val_accuracy: 0.7958\n",
      "Epoch 27/50\n",
      "27/27 [==============================] - 47s 2s/step - loss: 0.4023 - accuracy: 0.8116 - val_loss: 0.4138 - val_accuracy: 0.7883\n",
      "Epoch 28/50\n",
      "27/27 [==============================] - 46s 2s/step - loss: 0.4213 - accuracy: 0.7935 - val_loss: 0.3858 - val_accuracy: 0.8133\n",
      "Epoch 29/50\n",
      "27/27 [==============================] - 45s 2s/step - loss: 0.3710 - accuracy: 0.8260 - val_loss: 0.3899 - val_accuracy: 0.8150\n",
      "Epoch 30/50\n",
      "27/27 [==============================] - 47s 2s/step - loss: 0.3901 - accuracy: 0.8172 - val_loss: 0.3841 - val_accuracy: 0.8133\n",
      "Epoch 31/50\n",
      "27/27 [==============================] - 44s 2s/step - loss: 0.3765 - accuracy: 0.8256 - val_loss: 0.3943 - val_accuracy: 0.8125\n",
      "Epoch 32/50\n",
      "27/27 [==============================] - 45s 2s/step - loss: 0.3837 - accuracy: 0.8185 - val_loss: 0.3758 - val_accuracy: 0.8150\n",
      "Epoch 33/50\n",
      "27/27 [==============================] - 45s 2s/step - loss: 0.3753 - accuracy: 0.8277 - val_loss: 0.4511 - val_accuracy: 0.7850\n",
      "Epoch 34/50\n",
      "27/27 [==============================] - 46s 2s/step - loss: 0.3661 - accuracy: 0.8244 - val_loss: 0.4256 - val_accuracy: 0.7867\n",
      "Epoch 35/50\n",
      "27/27 [==============================] - 45s 2s/step - loss: 0.3625 - accuracy: 0.8284 - val_loss: 0.4665 - val_accuracy: 0.7742\n",
      "Epoch 36/50\n",
      "27/27 [==============================] - 46s 2s/step - loss: 0.3697 - accuracy: 0.8210 - val_loss: 0.3760 - val_accuracy: 0.8142\n",
      "Epoch 37/50\n",
      "27/27 [==============================] - 45s 2s/step - loss: 0.3489 - accuracy: 0.8405 - val_loss: 0.4173 - val_accuracy: 0.7875\n",
      "Epoch 38/50\n",
      "27/27 [==============================] - 45s 2s/step - loss: 0.3797 - accuracy: 0.8233 - val_loss: 0.4606 - val_accuracy: 0.7758\n",
      "Epoch 39/50\n",
      "27/27 [==============================] - 45s 2s/step - loss: 0.3733 - accuracy: 0.8216 - val_loss: 0.3828 - val_accuracy: 0.8150\n",
      "Epoch 40/50\n",
      "27/27 [==============================] - 45s 2s/step - loss: 0.3536 - accuracy: 0.8342 - val_loss: 0.3849 - val_accuracy: 0.8083\n",
      "Epoch 41/50\n",
      "27/27 [==============================] - 45s 2s/step - loss: 0.3532 - accuracy: 0.8403 - val_loss: 0.3663 - val_accuracy: 0.8300\n",
      "Epoch 42/50\n",
      "27/27 [==============================] - 45s 2s/step - loss: 0.3430 - accuracy: 0.8464 - val_loss: 0.4120 - val_accuracy: 0.8025\n",
      "Epoch 43/50\n",
      "27/27 [==============================] - 46s 2s/step - loss: 0.3282 - accuracy: 0.8546 - val_loss: 0.3481 - val_accuracy: 0.8442\n",
      "Epoch 44/50\n",
      "27/27 [==============================] - 44s 2s/step - loss: 0.3656 - accuracy: 0.8302 - val_loss: 0.3503 - val_accuracy: 0.8375\n",
      "Epoch 45/50\n",
      "27/27 [==============================] - 46s 2s/step - loss: 0.3563 - accuracy: 0.8281 - val_loss: 0.3532 - val_accuracy: 0.8383\n",
      "Epoch 46/50\n",
      "27/27 [==============================] - 44s 2s/step - loss: 0.3656 - accuracy: 0.8323 - val_loss: 0.3801 - val_accuracy: 0.8250\n",
      "Epoch 47/50\n",
      "27/27 [==============================] - 46s 2s/step - loss: 0.3439 - accuracy: 0.8433 - val_loss: 0.3602 - val_accuracy: 0.8242\n",
      "Epoch 48/50\n",
      "27/27 [==============================] - 49s 2s/step - loss: 0.3328 - accuracy: 0.8515 - val_loss: 0.3415 - val_accuracy: 0.8500\n",
      "Epoch 49/50\n",
      "27/27 [==============================] - 49s 2s/step - loss: 0.3354 - accuracy: 0.8513 - val_loss: 0.3621 - val_accuracy: 0.8367\n",
      "Epoch 50/50\n",
      "27/27 [==============================] - 51s 2s/step - loss: 0.3188 - accuracy: 0.8574 - val_loss: 0.4257 - val_accuracy: 0.8100\n"
     ]
    }
   ],
   "source": [
    "print(\"Alex Net ***************************************************\")\n",
    "h1 = alxClf.fit(x=conjTreinamento, steps_per_epoch=passosPorEpoca, epochs=epocas, validation_data=conjTeste, validation_steps=passosPorValidacao, verbose=1).history"
   ]
  },
  {
   "cell_type": "code",
   "execution_count": 14,
   "metadata": {},
   "outputs": [
    {
     "data": {
      "image/png": "[encoded data removed]",
      "text/plain": [
       "<Figure size 432x288 with 1 Axes>"
      ]
     },
     "metadata": {
      "needs_background": "light"
     },
     "output_type": "display_data"
    }
   ],
   "source": [
    "# Gráfico de Acurácia\n",
    "plt.style.use(\"ggplot\")\n",
    "plt.figure()\n",
    "plt.plot(np.arange(0, epocas), h1[\"accuracy\"], label=\"Acuracia\")\n",
    "#plt.plot(np.arange(0, epc), h1[\"loss\"], label=\"Perda\")\n",
    "plt.plot(np.arange(0, epocas), h1[\"val_accuracy\"], label=\"Acurácia de Validação\")\n",
    "#plt.plot(np.arange(0, epc), h1[\"val_loss\"], label=\"Perda na Validação\")\n",
    "plt.title(\"AlexNet\")\n",
    "plt.xlabel(\"Épocas\")\n",
    "plt.ylabel(\"Valores\")\n",
    "plt.legend()\n",
    "plt.show()"
   ]
  },
  {
   "cell_type": "code",
   "execution_count": 15,
   "metadata": {},
   "outputs": [
    {
     "name": "stdout",
     "output_type": "stream",
     "text": [
      "7/7 [==============================] - 0s 20ms/step\n",
      "              precision    recall  f1-score   support\n",
      "\n",
      "   Não Covid       0.73      0.93      0.82       104\n",
      "       Covid       0.90      0.62      0.74        96\n",
      "\n",
      "    accuracy                           0.79       200\n",
      "   macro avg       0.81      0.78      0.78       200\n",
      "weighted avg       0.81      0.79      0.78       200\n",
      "\n"
     ]
    }
   ],
   "source": [
    "prdAlx = alxClf.predict(conjTeste[0][0])\n",
    "categorias = []\n",
    "for i in conjTeste[0][1]:\n",
    "    categorias.append(0 if i[0] > 0.0 else 1)\n",
    "predAlexNet = []\n",
    "for i in prdAlx:\n",
    "    predAlexNet.append(0 if i[0] >= 0.5 else 1)\n",
    "print(classification_report(categorias, predAlexNet, target_names=[\"Não Covid\", \"Covid\"]))"
   ]
  },
  {
   "cell_type": "code",
   "execution_count": 16,
   "metadata": {},
   "outputs": [],
   "source": [
    "ga.geraHistorico(\"arquivos/arqAlexNet\"+str(epocas)+\".csv\", h1)\n",
    "ga.geraPredicao(\"arquivos/arqPredAlexNet\"+str(tamanhoDoLote)+\".csv\", categorias, predAlexNet)"
   ]
  },
  {
   "cell_type": "code",
   "execution_count": 17,
   "metadata": {},
   "outputs": [
    {
     "data": {
      "text/plain": [
       "'\\ndf1 = dfc.getDfPredicao()\\nprdTmnh = len(df1)\\nconjPred = imgGen.flow_from_dataframe(df1, \"D:/DropB/Faculeste/TCC/Imagens/dataFrame\", \\n                                x_col = \\'arquivo\\',\\n                                y_col = \\'categoria\\',\\n                                target_size=(width, height), \\n                                batch_size=prdTmnh, \\n                                class_mode=\\'categorical\\')\\nprdLNt = lntClf.predict(conjPred[0][0])\\ncategorias = []\\nfor i in conjPred[0][1]:\\n    categorias.append(0 if i[0] > 0.0 else 1)\\nprdLNet = []\\nfor i in prdLNt:\\n    prdLNet.append(0 if i[0] >= 0.5 else 1)\\nprint(classification_report(categorias, prdLNet, target_names=[\"Não Covid\", \"Covid\"]))\\n'"
      ]
     },
     "execution_count": 17,
     "metadata": {},
     "output_type": "execute_result"
    }
   ],
   "source": [
    "'''\n",
    "df1 = dfc.getDfPredicao()\n",
    "prdTmnh = len(df1)\n",
    "conjPred = imgGen.flow_from_dataframe(df1, \"D:/DropB/Faculeste/TCC/Imagens/dataFrame\", \n",
    "                                x_col = 'arquivo',\n",
    "                                y_col = 'categoria',\n",
    "                                target_size=(width, height), \n",
    "                                batch_size=prdTmnh, \n",
    "                                class_mode='categorical')\n",
    "prdLNt = lntClf.predict(conjPred[0][0])\n",
    "categorias = []\n",
    "for i in conjPred[0][1]:\n",
    "    categorias.append(0 if i[0] > 0.0 else 1)\n",
    "prdLNet = []\n",
    "for i in prdLNt:\n",
    "    prdLNet.append(0 if i[0] >= 0.5 else 1)\n",
    "print(classification_report(categorias, prdLNet, target_names=[\"Não Covid\", \"Covid\"]))\n",
    "'''\n"
   ]
  }
 ],
 "metadata": {
  "kernelspec": {
   "display_name": "Python 3",
   "language": "python",
   "name": "python3"
  },
  "language_info": {
   "codemirror_mode": {
    "name": "ipython",
    "version": 3
   },
   "file_extension": ".py",
   "mimetype": "text/x-python",
   "name": "python",
   "nbconvert_exporter": "python",
   "pygments_lexer": "ipython3",
   "version": "3.10.5"
  },
  "orig_nbformat": 4
 },
 "nbformat": 4,
 "nbformat_minor": 2
}
