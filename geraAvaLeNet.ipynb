{
 "cells": [
  {
   "cell_type": "code",
   "execution_count": 15,
   "metadata": {},
   "outputs": [],
   "source": [
    "from keras.preprocessing.image import ImageDataGenerator\n",
    "import pandas as pd\n",
    "import os\n",
    "import matplotlib.pyplot as plt \n",
    "import numpy as np\n",
    "from sklearn.metrics import confusion_matrix, f1_score, precision_score, accuracy_score, recall_score "
   ]
  },
  {
   "cell_type": "code",
   "execution_count": 16,
   "metadata": {},
   "outputs": [
    {
     "name": "stderr",
     "output_type": "stream",
     "text": [
      "C:\\Users\\Marcelo\\AppData\\Local\\Temp\\ipykernel_3280\\3298725548.py:23: FutureWarning: The frame.append method is deprecated and will be removed from pandas in a future version. Use pandas.concat instead.\n",
      "  df = df1.append(df2)\n"
     ]
    }
   ],
   "source": [
    "# Monta dataframe com nome dos arquivos\n",
    "fn1 = os.listdir(\"D:/DropB/Faculeste/TCC/Imagens/COVID-19_Radiography_Dataset/Normal2/images\")\n",
    "fn2 = os.listdir(\"D:/DropB/Faculeste/TCC/Imagens/COVID-19_Radiography_Dataset/COVID/images\")\n",
    "\n",
    "ct1 = []\n",
    "for fn in fn1:\n",
    "  ct1.append([0])\n",
    "\n",
    "df1 = pd.DataFrame({\n",
    "  'arquivo': fn1,    \n",
    "  'categoria': ct1   # Normal\n",
    "})\n",
    "#df1\n",
    "\n",
    "ct2 = []\n",
    "for fn in fn2:\n",
    "  ct2.append([1])\n",
    "\n",
    "df2 = pd.DataFrame({\n",
    "  'arquivo': fn2,\n",
    "  'categoria': ct2   # COVID\n",
    "})\n",
    "df = df1.append(df2)"
   ]
  },
  {
   "cell_type": "code",
   "execution_count": 17,
   "metadata": {},
   "outputs": [],
   "source": [
    "# gerando dataframes de treinamento e de teste\n",
    "dfTreinamento = df.sample(frac=0.7, random_state=100) # 70% de treinamento\n",
    "dfTeste = df[~df['arquivo'].isin(dfTreinamento['arquivo'])]     # 30% de teste"
   ]
  },
  {
   "cell_type": "code",
   "execution_count": 18,
   "metadata": {},
   "outputs": [
    {
     "data": {
      "text/plain": [
       "2190"
      ]
     },
     "execution_count": 18,
     "metadata": {},
     "output_type": "execute_result"
    }
   ],
   "source": [
    "len(dfTeste)"
   ]
  },
  {
   "cell_type": "code",
   "execution_count": 19,
   "metadata": {},
   "outputs": [],
   "source": [
    "width = 64\n",
    "height = 64\n",
    "depth = 3\n",
    "classes = 2\n",
    "inputShape = (height, width, depth)"
   ]
  },
  {
   "cell_type": "code",
   "execution_count": 20,
   "metadata": {},
   "outputs": [
    {
     "name": "stdout",
     "output_type": "stream",
     "text": [
      "Found 5110 validated image filenames belonging to 2 classes.\n",
      "Found 2190 validated image filenames belonging to 2 classes.\n"
     ]
    }
   ],
   "source": [
    "imgGen = ImageDataGenerator(rescale = 1./255, \n",
    "                            shear_range=0.25, \n",
    "                            zoom_range = 0.25, \n",
    "                            horizontal_flip = True)\n",
    "\n",
    "conjTreinamento = imgGen.flow_from_dataframe(dfTreinamento, \"D:/DropB/Faculeste/TCC/Imagens/dataFrame\", \n",
    "                                  x_col = 'arquivo',\n",
    "                                  y_col = 'categoria',\n",
    "                                  target_size=(width, height), \n",
    "                                  batch_size=5000, \n",
    "                                  class_mode='categorical')\n",
    "\n",
    "conjTeste = imgGen.flow_from_dataframe(dfTeste, \"D:/DropB/Faculeste/TCC/Imagens/dataFrame\", \n",
    "                                  x_col = 'arquivo',\n",
    "                                  y_col = 'categoria',\n",
    "                                  target_size=(width, height), \n",
    "                                  batch_size=2000, \n",
    "                                  class_mode='categorical')"
   ]
  },
  {
   "cell_type": "code",
   "execution_count": 21,
   "metadata": {},
   "outputs": [
    {
     "name": "stdout",
     "output_type": "stream",
     "text": [
      "Model: \"sequential_1\"\n",
      "_________________________________________________________________\n",
      " Layer (type)                Output Shape              Param #   \n",
      "=================================================================\n",
      " conv2d_2 (Conv2D)           (None, 60, 60, 6)         456       \n",
      "                                                                 \n",
      " average_pooling2d_2 (Averag  (None, 30, 30, 6)        0         \n",
      " ePooling2D)                                                     \n",
      "                                                                 \n",
      " conv2d_3 (Conv2D)           (None, 26, 26, 6)         906       \n",
      "                                                                 \n",
      " average_pooling2d_3 (Averag  (None, 13, 13, 6)        0         \n",
      " ePooling2D)                                                     \n",
      "                                                                 \n",
      " dense_3 (Dense)             (None, 13, 13, 120)       840       \n",
      "                                                                 \n",
      " flatten_1 (Flatten)         (None, 20280)             0         \n",
      "                                                                 \n",
      " dense_4 (Dense)             (None, 84)                1703604   \n",
      "                                                                 \n",
      " dense_5 (Dense)             (None, 2)                 170       \n",
      "                                                                 \n",
      "=================================================================\n",
      "Total params: 1,705,976\n",
      "Trainable params: 1,705,976\n",
      "Non-trainable params: 0\n",
      "_________________________________________________________________\n"
     ]
    },
    {
     "name": "stderr",
     "output_type": "stream",
     "text": [
      "c:\\Users\\Marcelo\\AppData\\Local\\Programs\\Python\\Python310\\lib\\site-packages\\keras\\optimizers\\optimizer_v2\\gradient_descent.py:111: UserWarning: The `lr` argument is deprecated, use `learning_rate` instead.\n",
      "  super().__init__(name, **kwargs)\n"
     ]
    }
   ],
   "source": [
    "# Lenet5 - Ajustar imagens para 32 x 32\n",
    "from leNet5M import LeNet5M\n",
    "lntClf = LeNet5M()\n",
    "lntClf = lntClf.build(h=height, w=width, prof=3, cl=2)\n",
    "lntClf.summary()"
   ]
  },
  {
   "cell_type": "code",
   "execution_count": 22,
   "metadata": {},
   "outputs": [],
   "source": [
    "spe = 2\n",
    "epc = 100\n",
    "vls = 2"
   ]
  },
  {
   "cell_type": "code",
   "execution_count": 23,
   "metadata": {},
   "outputs": [
    {
     "name": "stdout",
     "output_type": "stream",
     "text": [
      "LeNet ***************************************************\n",
      "Epoch 1/100\n",
      "2/2 [==============================] - 32s 13s/step - loss: 0.7052 - accuracy: 0.5491 - val_loss: 5.3262 - val_accuracy: 0.5018\n",
      "Epoch 2/100\n",
      "2/2 [==============================] - 27s 27s/step - loss: 3.9565 - accuracy: 0.4953 - val_loss: 2.3378 - val_accuracy: 0.5018\n",
      "Epoch 3/100\n",
      "2/2 [==============================] - 27s 27s/step - loss: 1.6274 - accuracy: 0.4914 - val_loss: 2.0224 - val_accuracy: 0.5018\n",
      "Epoch 4/100\n",
      "2/2 [==============================] - 27s 8s/step - loss: 2.0042 - accuracy: 0.5039 - val_loss: 2.1913 - val_accuracy: 0.5018\n",
      "Epoch 5/100\n",
      "2/2 [==============================] - 27s 27s/step - loss: 1.1990 - accuracy: 0.4953 - val_loss: 1.7885 - val_accuracy: 0.5018\n",
      "Epoch 6/100\n",
      "2/2 [==============================] - 27s 7s/step - loss: 1.7598 - accuracy: 0.5074 - val_loss: 1.5023 - val_accuracy: 0.5018\n",
      "Epoch 7/100\n",
      "2/2 [==============================] - 27s 27s/step - loss: 1.4066 - accuracy: 0.4945 - val_loss: 1.4311 - val_accuracy: 0.5018\n",
      "Epoch 8/100\n",
      "2/2 [==============================] - 27s 7s/step - loss: 1.4195 - accuracy: 0.5043 - val_loss: 1.5138 - val_accuracy: 0.5018\n",
      "Epoch 9/100\n",
      "2/2 [==============================] - 27s 7s/step - loss: 1.4925 - accuracy: 0.5067 - val_loss: 1.3537 - val_accuracy: 0.5018\n",
      "Epoch 10/100\n",
      "2/2 [==============================] - 27s 27s/step - loss: 0.9831 - accuracy: 0.4961 - val_loss: 1.0625 - val_accuracy: 0.5018\n",
      "Epoch 11/100\n",
      "2/2 [==============================] - 28s 27s/step - loss: 0.9719 - accuracy: 0.4945 - val_loss: 0.9963 - val_accuracy: 0.5018\n",
      "Epoch 12/100\n",
      "2/2 [==============================] - 27s 27s/step - loss: 1.0421 - accuracy: 0.4930 - val_loss: 1.0013 - val_accuracy: 0.5018\n",
      "Epoch 13/100\n",
      "2/2 [==============================] - 28s 28s/step - loss: 0.8247 - accuracy: 0.4961 - val_loss: 0.8700 - val_accuracy: 0.5018\n",
      "Epoch 14/100\n",
      "2/2 [==============================] - 30s 30s/step - loss: 0.7885 - accuracy: 0.4957 - val_loss: 0.8250 - val_accuracy: 0.5018\n",
      "Epoch 15/100\n",
      "2/2 [==============================] - 27s 27s/step - loss: 0.9043 - accuracy: 0.4930 - val_loss: 0.9177 - val_accuracy: 0.5018\n",
      "Epoch 16/100\n",
      "2/2 [==============================] - 28s 7s/step - loss: 0.9106 - accuracy: 0.5063 - val_loss: 0.8856 - val_accuracy: 0.5018\n",
      "Epoch 17/100\n",
      "2/2 [==============================] - 27s 7s/step - loss: 0.8812 - accuracy: 0.5047 - val_loss: 0.9575 - val_accuracy: 0.5018\n",
      "Epoch 18/100\n",
      "2/2 [==============================] - 28s 27s/step - loss: 0.9386 - accuracy: 0.4930 - val_loss: 0.8947 - val_accuracy: 0.5018\n",
      "Epoch 19/100\n",
      "2/2 [==============================] - 28s 27s/step - loss: 1.0802 - accuracy: 0.4902 - val_loss: 0.8996 - val_accuracy: 0.5018\n",
      "Epoch 20/100\n",
      "2/2 [==============================] - 27s 27s/step - loss: 0.7491 - accuracy: 0.4961 - val_loss: 0.7528 - val_accuracy: 0.5018\n",
      "Epoch 21/100\n",
      "2/2 [==============================] - 27s 27s/step - loss: 0.7454 - accuracy: 0.4941 - val_loss: 0.7505 - val_accuracy: 0.5018\n",
      "Epoch 22/100\n",
      "2/2 [==============================] - 27s 27s/step - loss: 0.7222 - accuracy: 0.4949 - val_loss: 0.7264 - val_accuracy: 0.5018\n",
      "Epoch 23/100\n",
      "2/2 [==============================] - 27s 27s/step - loss: 0.7320 - accuracy: 0.4937 - val_loss: 0.7367 - val_accuracy: 0.5018\n",
      "Epoch 24/100\n",
      "2/2 [==============================] - 28s 8s/step - loss: 0.7357 - accuracy: 0.5031 - val_loss: 0.8524 - val_accuracy: 0.5018\n",
      "Epoch 25/100\n",
      "2/2 [==============================] - 27s 27s/step - loss: 0.8160 - accuracy: 0.4937 - val_loss: 0.7968 - val_accuracy: 0.5018\n",
      "Epoch 26/100\n",
      "2/2 [==============================] - 27s 27s/step - loss: 0.6933 - accuracy: 0.5063 - val_loss: 0.6932 - val_accuracy: 0.4982\n",
      "Epoch 27/100\n",
      "2/2 [==============================] - 27s 7s/step - loss: 0.6933 - accuracy: 0.4933 - val_loss: 0.6961 - val_accuracy: 0.4982\n",
      "Epoch 28/100\n",
      "2/2 [==============================] - 27s 27s/step - loss: 0.7083 - accuracy: 0.5051 - val_loss: 0.7076 - val_accuracy: 0.4982\n",
      "Epoch 29/100\n",
      "2/2 [==============================] - 27s 7s/step - loss: 0.7099 - accuracy: 0.4918 - val_loss: 0.7681 - val_accuracy: 0.4982\n",
      "Epoch 30/100\n",
      "2/2 [==============================] - 28s 27s/step - loss: 0.7222 - accuracy: 0.5074 - val_loss: 0.7189 - val_accuracy: 0.4982\n",
      "Epoch 31/100\n",
      "2/2 [==============================] - 28s 27s/step - loss: 0.7700 - accuracy: 0.5043 - val_loss: 0.7574 - val_accuracy: 0.4982\n",
      "Epoch 32/100\n",
      "2/2 [==============================] - 27s 27s/step - loss: 0.7253 - accuracy: 0.5070 - val_loss: 0.7217 - val_accuracy: 0.4982\n",
      "Epoch 33/100\n",
      "2/2 [==============================] - 27s 7s/step - loss: 0.7247 - accuracy: 0.4922 - val_loss: 0.7763 - val_accuracy: 0.4982\n",
      "Epoch 34/100\n",
      "2/2 [==============================] - 27s 27s/step - loss: 0.7728 - accuracy: 0.5059 - val_loss: 0.7575 - val_accuracy: 0.4982\n",
      "Epoch 35/100\n",
      "2/2 [==============================] - 27s 27s/step - loss: 0.7093 - accuracy: 0.5078 - val_loss: 0.7073 - val_accuracy: 0.4982\n",
      "Epoch 36/100\n",
      "2/2 [==============================] - 27s 7s/step - loss: 0.7086 - accuracy: 0.4945 - val_loss: 0.7006 - val_accuracy: 0.4982\n",
      "Epoch 37/100\n",
      "2/2 [==============================] - 27s 7s/step - loss: 0.7013 - accuracy: 0.4953 - val_loss: 0.6931 - val_accuracy: 0.5018\n",
      "Epoch 38/100\n",
      "2/2 [==============================] - 28s 7s/step - loss: 0.6931 - accuracy: 0.5063 - val_loss: 0.7094 - val_accuracy: 0.4982\n",
      "Epoch 39/100\n",
      "2/2 [==============================] - 27s 27s/step - loss: 0.7069 - accuracy: 0.5063 - val_loss: 0.7057 - val_accuracy: 0.4982\n",
      "Epoch 40/100\n",
      "2/2 [==============================] - 27s 7s/step - loss: 0.7078 - accuracy: 0.4922 - val_loss: 0.7503 - val_accuracy: 0.4982\n",
      "Epoch 41/100\n",
      "2/2 [==============================] - 27s 7s/step - loss: 0.7542 - accuracy: 0.4926 - val_loss: 0.7910 - val_accuracy: 0.4982\n",
      "Epoch 42/100\n",
      "2/2 [==============================] - 27s 27s/step - loss: 0.9119 - accuracy: 0.5031 - val_loss: 0.8160 - val_accuracy: 0.4982\n",
      "Epoch 43/100\n",
      "2/2 [==============================] - 27s 7s/step - loss: 0.8197 - accuracy: 0.4941 - val_loss: 0.7624 - val_accuracy: 0.4982\n",
      "Epoch 44/100\n",
      "2/2 [==============================] - 28s 27s/step - loss: 0.7272 - accuracy: 0.5070 - val_loss: 0.7222 - val_accuracy: 0.4982\n",
      "Epoch 45/100\n",
      "2/2 [==============================] - 27s 27s/step - loss: 0.7175 - accuracy: 0.5063 - val_loss: 0.7146 - val_accuracy: 0.4982\n",
      "Epoch 46/100\n",
      "2/2 [==============================] - 27s 7s/step - loss: 0.7163 - accuracy: 0.4941 - val_loss: 0.7111 - val_accuracy: 0.4982\n",
      "Epoch 47/100\n",
      "2/2 [==============================] - 28s 7s/step - loss: 0.7121 - accuracy: 0.4957 - val_loss: 0.6934 - val_accuracy: 0.4982\n",
      "Epoch 48/100\n",
      "2/2 [==============================] - 27s 7s/step - loss: 0.6935 - accuracy: 0.4945 - val_loss: 0.6933 - val_accuracy: 0.5018\n",
      "Epoch 49/100\n",
      "2/2 [==============================] - 27s 27s/step - loss: 0.6958 - accuracy: 0.4933 - val_loss: 0.6968 - val_accuracy: 0.5018\n",
      "Epoch 50/100\n",
      "2/2 [==============================] - 27s 27s/step - loss: 0.6960 - accuracy: 0.5063 - val_loss: 0.6958 - val_accuracy: 0.4982\n",
      "Epoch 51/100\n",
      "2/2 [==============================] - 27s 7s/step - loss: 0.6967 - accuracy: 0.4926 - val_loss: 0.7162 - val_accuracy: 0.4982\n",
      "Epoch 52/100\n",
      "2/2 [==============================] - 27s 7s/step - loss: 0.7189 - accuracy: 0.4922 - val_loss: 0.7658 - val_accuracy: 0.4982\n",
      "Epoch 53/100\n",
      "2/2 [==============================] - 27s 7s/step - loss: 0.7700 - accuracy: 0.4926 - val_loss: 0.7971 - val_accuracy: 0.4982\n",
      "Epoch 54/100\n",
      "2/2 [==============================] - 27s 26s/step - loss: 0.7833 - accuracy: 0.5059 - val_loss: 0.7587 - val_accuracy: 0.4982\n",
      "Epoch 55/100\n",
      "2/2 [==============================] - 27s 7s/step - loss: 0.7660 - accuracy: 0.4883 - val_loss: 1.0152 - val_accuracy: 0.4982\n",
      "Epoch 56/100\n",
      "2/2 [==============================] - 27s 26s/step - loss: 0.8813 - accuracy: 0.5051 - val_loss: 0.7878 - val_accuracy: 0.4982\n",
      "Epoch 57/100\n",
      "2/2 [==============================] - 27s 27s/step - loss: 0.6990 - accuracy: 0.5090 - val_loss: 0.6967 - val_accuracy: 0.4982\n",
      "Epoch 58/100\n",
      "2/2 [==============================] - 27s 27s/step - loss: 0.7139 - accuracy: 0.5047 - val_loss: 0.7094 - val_accuracy: 0.4982\n",
      "Epoch 59/100\n",
      "2/2 [==============================] - 27s 27s/step - loss: 0.7105 - accuracy: 0.5059 - val_loss: 0.7064 - val_accuracy: 0.4982\n",
      "Epoch 60/100\n",
      "2/2 [==============================] - 27s 7s/step - loss: 0.7075 - accuracy: 0.4949 - val_loss: 0.6947 - val_accuracy: 0.4982\n",
      "Epoch 61/100\n",
      "2/2 [==============================] - 27s 7s/step - loss: 0.6956 - accuracy: 0.4902 - val_loss: 0.7708 - val_accuracy: 0.4982\n",
      "Epoch 62/100\n",
      "2/2 [==============================] - 27s 27s/step - loss: 0.7695 - accuracy: 0.5055 - val_loss: 0.7446 - val_accuracy: 0.4982\n",
      "Epoch 63/100\n",
      "2/2 [==============================] - 27s 27s/step - loss: 0.7063 - accuracy: 0.5074 - val_loss: 0.7026 - val_accuracy: 0.4982\n",
      "Epoch 64/100\n",
      "2/2 [==============================] - 27s 27s/step - loss: 0.7097 - accuracy: 0.5055 - val_loss: 0.7058 - val_accuracy: 0.4982\n",
      "Epoch 65/100\n",
      "2/2 [==============================] - 27s 26s/step - loss: 0.7101 - accuracy: 0.4937 - val_loss: 0.7107 - val_accuracy: 0.5018\n",
      "Epoch 66/100\n",
      "2/2 [==============================] - 27s 27s/step - loss: 0.7469 - accuracy: 0.4922 - val_loss: 0.7387 - val_accuracy: 0.5018\n",
      "Epoch 67/100\n",
      "2/2 [==============================] - 27s 26s/step - loss: 0.6954 - accuracy: 0.5063 - val_loss: 0.6950 - val_accuracy: 0.4982\n",
      "Epoch 68/100\n",
      "2/2 [==============================] - 27s 27s/step - loss: 0.7040 - accuracy: 0.5051 - val_loss: 0.7016 - val_accuracy: 0.4982\n",
      "Epoch 69/100\n",
      "2/2 [==============================] - 27s 26s/step - loss: 0.7949 - accuracy: 0.5023 - val_loss: 0.7597 - val_accuracy: 0.4982\n",
      "Epoch 70/100\n",
      "2/2 [==============================] - 27s 7s/step - loss: 0.7597 - accuracy: 0.4980 - val_loss: 0.6977 - val_accuracy: 0.5018\n",
      "Epoch 71/100\n",
      "2/2 [==============================] - 27s 7s/step - loss: 0.6974 - accuracy: 0.5027 - val_loss: 0.7652 - val_accuracy: 0.5018\n",
      "Epoch 72/100\n",
      "2/2 [==============================] - 27s 7s/step - loss: 0.7603 - accuracy: 0.5074 - val_loss: 0.7054 - val_accuracy: 0.5018\n",
      "Epoch 73/100\n",
      "2/2 [==============================] - 27s 7s/step - loss: 0.7043 - accuracy: 0.5047 - val_loss: 0.7254 - val_accuracy: 0.5018\n",
      "Epoch 74/100\n",
      "2/2 [==============================] - 27s 7s/step - loss: 0.7236 - accuracy: 0.5047 - val_loss: 0.7466 - val_accuracy: 0.5018\n",
      "Epoch 75/100\n",
      "2/2 [==============================] - 27s 27s/step - loss: 0.7289 - accuracy: 0.4941 - val_loss: 0.7241 - val_accuracy: 0.5018\n",
      "Epoch 76/100\n",
      "2/2 [==============================] - 27s 7s/step - loss: 0.7205 - accuracy: 0.5086 - val_loss: 0.6936 - val_accuracy: 0.4982\n",
      "Epoch 77/100\n",
      "2/2 [==============================] - 27s 7s/step - loss: 0.6938 - accuracy: 0.4949 - val_loss: 0.6945 - val_accuracy: 0.5018\n",
      "Epoch 78/100\n",
      "2/2 [==============================] - 27s 27s/step - loss: 0.7238 - accuracy: 0.5063 - val_loss: 0.7175 - val_accuracy: 0.4982\n",
      "Epoch 79/100\n",
      "2/2 [==============================] - 27s 26s/step - loss: 0.7045 - accuracy: 0.5067 - val_loss: 0.7015 - val_accuracy: 0.4982\n",
      "Epoch 80/100\n",
      "2/2 [==============================] - 27s 7s/step - loss: 0.7019 - accuracy: 0.4965 - val_loss: 0.6996 - val_accuracy: 0.5018\n",
      "Epoch 81/100\n",
      "2/2 [==============================] - 27s 27s/step - loss: 0.7278 - accuracy: 0.4922 - val_loss: 0.7248 - val_accuracy: 0.5018\n",
      "Epoch 82/100\n",
      "2/2 [==============================] - 27s 7s/step - loss: 0.7212 - accuracy: 0.5086 - val_loss: 0.6934 - val_accuracy: 0.4982\n",
      "Epoch 83/100\n",
      "2/2 [==============================] - 27s 7s/step - loss: 0.6937 - accuracy: 0.4930 - val_loss: 0.7005 - val_accuracy: 0.4982\n",
      "Epoch 84/100\n",
      "2/2 [==============================] - 27s 7s/step - loss: 0.7023 - accuracy: 0.4910 - val_loss: 0.7657 - val_accuracy: 0.4982\n",
      "Epoch 85/100\n",
      "2/2 [==============================] - 27s 27s/step - loss: 0.7800 - accuracy: 0.5051 - val_loss: 0.7502 - val_accuracy: 0.4982\n",
      "Epoch 86/100\n",
      "2/2 [==============================] - 27s 7s/step - loss: 0.7538 - accuracy: 0.4926 - val_loss: 0.7671 - val_accuracy: 0.4982\n",
      "Epoch 87/100\n",
      "2/2 [==============================] - 27s 26s/step - loss: 0.8091 - accuracy: 0.5043 - val_loss: 0.7633 - val_accuracy: 0.4982\n",
      "Epoch 88/100\n",
      "2/2 [==============================] - 27s 27s/step - loss: 0.7134 - accuracy: 0.5074 - val_loss: 0.7075 - val_accuracy: 0.4982\n",
      "Epoch 89/100\n",
      "2/2 [==============================] - 27s 27s/step - loss: 0.7231 - accuracy: 0.5051 - val_loss: 0.7156 - val_accuracy: 0.4982\n",
      "Epoch 90/100\n",
      "2/2 [==============================] - 27s 27s/step - loss: 0.7156 - accuracy: 0.5059 - val_loss: 0.7099 - val_accuracy: 0.4982\n",
      "Epoch 91/100\n",
      "2/2 [==============================] - 27s 7s/step - loss: 0.7122 - accuracy: 0.4918 - val_loss: 0.7557 - val_accuracy: 0.4982\n",
      "Epoch 92/100\n",
      "2/2 [==============================] - 27s 7s/step - loss: 0.7601 - accuracy: 0.4918 - val_loss: 0.7995 - val_accuracy: 0.4982\n",
      "Epoch 93/100\n",
      "2/2 [==============================] - 27s 27s/step - loss: 0.7183 - accuracy: 0.5078 - val_loss: 0.7107 - val_accuracy: 0.4982\n",
      "Epoch 94/100\n",
      "2/2 [==============================] - 27s 7s/step - loss: 0.7120 - accuracy: 0.4945 - val_loss: 0.6989 - val_accuracy: 0.4982\n",
      "Epoch 95/100\n",
      "2/2 [==============================] - 27s 27s/step - loss: 0.7001 - accuracy: 0.5059 - val_loss: 0.6982 - val_accuracy: 0.4982\n",
      "Epoch 96/100\n",
      "2/2 [==============================] - 27s 7s/step - loss: 0.6994 - accuracy: 0.4926 - val_loss: 0.7172 - val_accuracy: 0.4982\n",
      "Epoch 97/100\n",
      "2/2 [==============================] - 27s 26s/step - loss: 0.7172 - accuracy: 0.5059 - val_loss: 0.7111 - val_accuracy: 0.4982\n",
      "Epoch 98/100\n",
      "2/2 [==============================] - 27s 27s/step - loss: 0.7119 - accuracy: 0.5059 - val_loss: 0.7072 - val_accuracy: 0.4982\n",
      "Epoch 99/100\n",
      "2/2 [==============================] - 27s 26s/step - loss: 0.7229 - accuracy: 0.5051 - val_loss: 0.7156 - val_accuracy: 0.4982\n",
      "Epoch 100/100\n",
      "2/2 [==============================] - 27s 7s/step - loss: 0.7161 - accuracy: 0.4969 - val_loss: 0.6967 - val_accuracy: 0.5018\n"
     ]
    }
   ],
   "source": [
    "print(\"LeNet ***************************************************\")\n",
    "h1 = lntClf.fit(x=conjTreinamento, steps_per_epoch=spe, epochs=epc, validation_data=conjTeste, validation_steps=vls, verbose=1).history"
   ]
  },
  {
   "cell_type": "code",
   "execution_count": 28,
   "metadata": {},
   "outputs": [
    {
     "name": "stdout",
     "output_type": "stream",
     "text": [
      "63/63 [==============================] - 1s 13ms/step\n"
     ]
    }
   ],
   "source": [
    "# gerando o Vetor de Categorias\n",
    "categorias = []\n",
    "for i in conjTeste[0][1]:\n",
    "    categorias.append(0 if i[0] > 0.0 else 1)\n",
    "prdLnt = lntClf.predict(conjTeste[0][0])\n",
    "predLeNet = []\n",
    "for i in prdLnt:\n",
    "    predLeNet.append(0 if i[0] >= 0.5 else 1)"
   ]
  },
  {
   "cell_type": "code",
   "execution_count": 30,
   "metadata": {},
   "outputs": [
    {
     "data": {
      "image/png": "[encoded data removed]",
      "text/plain": [
       "<Figure size 432x288 with 1 Axes>"
      ]
     },
     "metadata": {},
     "output_type": "display_data"
    }
   ],
   "source": [
    "# Gráfico de Acurácia\n",
    "plt.style.use(\"ggplot\")\n",
    "plt.figure()\n",
    "plt.plot(np.arange(0, epc), h1[\"accuracy\"], label=\"Acuracia\")\n",
    "plt.plot(np.arange(0, epc), h1[\"val_accuracy\"], label=\"Acurácia de Validação\")\n",
    "plt.title(\"LeNet - Acurácia\")\n",
    "plt.xlabel(\"Épocas\")\n",
    "plt.ylabel(\"Acurácia\")\n",
    "plt.legend()\n",
    "plt.show()"
   ]
  },
  {
   "cell_type": "code",
   "execution_count": 31,
   "metadata": {},
   "outputs": [
    {
     "data": {
      "image/png": "[encoded data removed]",
      "text/plain": [
       "<Figure size 432x288 with 1 Axes>"
      ]
     },
     "metadata": {},
     "output_type": "display_data"
    }
   ],
   "source": [
    "# Gráfico de Acurácia\n",
    "plt.style.use(\"ggplot\")\n",
    "plt.figure()\n",
    "plt.plot(np.arange(0, epc), h1[\"loss\"], label=\"Perda\")\n",
    "plt.plot(np.arange(0, epc), h1[\"val_loss\"], label=\"Perda na Validação\")\n",
    "plt.title(\"LeNet - Perda\")\n",
    "plt.xlabel(\"Épocas\")\n",
    "plt.ylabel(\"Perda\")\n",
    "plt.legend()\n",
    "plt.show()"
   ]
  },
  {
   "cell_type": "code",
   "execution_count": 32,
   "metadata": {},
   "outputs": [
    {
     "name": "stdout",
     "output_type": "stream",
     "text": [
      "LeNet: \n",
      ".......... Acuracia:  0.5\n",
      ".......... Precisão:  0.0\n",
      ".......... Recall  :  0.0\n",
      ".......... F1-Score:  0.0\n"
     ]
    },
    {
     "name": "stderr",
     "output_type": "stream",
     "text": [
      "c:\\Users\\Marcelo\\AppData\\Local\\Programs\\Python\\Python310\\lib\\site-packages\\sklearn\\metrics\\_classification.py:1327: UndefinedMetricWarning: Precision is ill-defined and being set to 0.0 due to no predicted samples. Use `zero_division` parameter to control this behavior.\n",
      "  _warn_prf(average, modifier, msg_start, len(result))\n"
     ]
    }
   ],
   "source": [
    "print(\"LeNet: \")\n",
    "print(\".......... Acuracia: \", accuracy_score(categorias, predLeNet))\n",
    "print(\".......... Precisão: \", precision_score(categorias, predLeNet))\n",
    "print(\".......... Recall  : \", recall_score(categorias, predLeNet))\n",
    "print(\".......... F1-Score: \", f1_score(categorias, predLeNet))"
   ]
  }
 ],
 "metadata": {
  "kernelspec": {
   "display_name": "Python 3",
   "language": "python",
   "name": "python3"
  },
  "language_info": {
   "codemirror_mode": {
    "name": "ipython",
    "version": 3
   },
   "file_extension": ".py",
   "mimetype": "text/x-python",
   "name": "python",
   "nbconvert_exporter": "python",
   "pygments_lexer": "ipython3",
   "version": "3.10.5"
  },
  "orig_nbformat": 4
 },
 "nbformat": 4,
 "nbformat_minor": 2
}
