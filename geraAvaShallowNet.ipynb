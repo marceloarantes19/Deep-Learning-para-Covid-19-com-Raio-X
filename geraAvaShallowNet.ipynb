{
 "cells": [
  {
   "cell_type": "code",
   "execution_count": 1,
   "metadata": {},
   "outputs": [],
   "source": [
    "from keras.preprocessing.image import ImageDataGenerator\n",
    "import matplotlib.pyplot as plt \n",
    "import numpy as np\n",
    "from sklearn.metrics import confusion_matrix, f1_score, precision_score, accuracy_score, recall_score \n",
    "from dataFrameCovid import DataFrameCovid as dfc\n",
    "from sklearn.metrics import classification_report\n",
    "from geraArquivo1 import GeraArquivo as ga"
   ]
  },
  {
   "cell_type": "code",
   "execution_count": 2,
   "metadata": {},
   "outputs": [
    {
     "name": "stderr",
     "output_type": "stream",
     "text": [
      "d:\\DropB\\Faculeste\\TCC\\codigos\\dataFrameCovid.py:27: FutureWarning: The frame.append method is deprecated and will be removed from pandas in a future version. Use pandas.concat instead.\n",
      "  df = df1.append(df2)\n"
     ]
    }
   ],
   "source": [
    "# Monta dataframe com nome dos arquivos\n",
    "df = dfc.getDf()"
   ]
  },
  {
   "cell_type": "code",
   "execution_count": 3,
   "metadata": {},
   "outputs": [
    {
     "data": {
      "text/plain": [
       "6800"
      ]
     },
     "execution_count": 3,
     "metadata": {},
     "output_type": "execute_result"
    }
   ],
   "source": [
    "len(df)"
   ]
  },
  {
   "cell_type": "code",
   "execution_count": 4,
   "metadata": {},
   "outputs": [
    {
     "data": {
      "text/plain": [
       "(27, 6)"
      ]
     },
     "execution_count": 4,
     "metadata": {},
     "output_type": "execute_result"
    }
   ],
   "source": [
    "# Variáveis de controle\n",
    "nImagens = len(df)\n",
    "percentual = 0.8\n",
    "tamanhoDoLote = 200\n",
    "epocas = 50\n",
    "passosPorEpoca = int(nImagens*percentual // tamanhoDoLote)\n",
    "passosPorValidacao = int(nImagens*(1.0 - percentual) // tamanhoDoLote)\n",
    "width = 32\n",
    "height = 32\n",
    "depth = 3\n",
    "classes = 2\n",
    "inputShape = (height, width, depth)\n",
    "passosPorEpoca, passosPorValidacao"
   ]
  },
  {
   "cell_type": "code",
   "execution_count": 5,
   "metadata": {},
   "outputs": [],
   "source": [
    "# gerando dataframes de treinamento e de teste\n",
    "dfTreinamento = df.sample(frac=0.8, random_state=100) # 80% de treinamento\n",
    "dfTeste = df[~df['arquivo'].isin(dfTreinamento['arquivo'])]     # 20% de Validação"
   ]
  },
  {
   "cell_type": "code",
   "execution_count": 6,
   "metadata": {},
   "outputs": [
    {
     "name": "stdout",
     "output_type": "stream",
     "text": [
      "Found 5440 validated image filenames belonging to 2 classes.\n",
      "Found 1360 validated image filenames belonging to 2 classes.\n"
     ]
    }
   ],
   "source": [
    "imgGen = ImageDataGenerator(rescale = 1./255, \n",
    "                            shear_range=0.25, \n",
    "                            zoom_range = 0.25, \n",
    "                            horizontal_flip = True)\n",
    "\n",
    "conjTreinamento = imgGen.flow_from_dataframe(dfTreinamento, \"D:/DropB/Faculeste/TCC/Imagens/dataFrame\", \n",
    "                                  x_col = 'arquivo',\n",
    "                                  y_col = 'categoria',\n",
    "                                  target_size=(width, height), \n",
    "                                  batch_size=tamanhoDoLote, \n",
    "                                  class_mode='categorical')\n",
    "\n",
    "conjTeste = imgGen.flow_from_dataframe(dfTeste, \"D:/DropB/Faculeste/TCC/Imagens/dataFrame\", \n",
    "                                  x_col = 'arquivo',\n",
    "                                  y_col = 'categoria',\n",
    "                                  target_size=(width, height), \n",
    "                                  batch_size=tamanhoDoLote, \n",
    "                                  class_mode='categorical')"
   ]
  },
  {
   "cell_type": "code",
   "execution_count": 7,
   "metadata": {},
   "outputs": [
    {
     "name": "stdout",
     "output_type": "stream",
     "text": [
      "Model: \"sequential\"\n",
      "_________________________________________________________________\n",
      " Layer (type)                Output Shape              Param #   \n",
      "=================================================================\n",
      " conv2d (Conv2D)             (None, 32, 32, 32)        896       \n",
      "                                                                 \n",
      " activation (Activation)     (None, 32, 32, 32)        0         \n",
      "                                                                 \n",
      " flatten (Flatten)           (None, 32768)             0         \n",
      "                                                                 \n",
      " dense (Dense)               (None, 2)                 65538     \n",
      "                                                                 \n",
      " activation_1 (Activation)   (None, 2)                 0         \n",
      "                                                                 \n",
      "=================================================================\n",
      "Total params: 66,434\n",
      "Trainable params: 66,434\n",
      "Non-trainable params: 0\n",
      "_________________________________________________________________\n"
     ]
    },
    {
     "name": "stderr",
     "output_type": "stream",
     "text": [
      "c:\\Users\\Marcelo\\AppData\\Local\\Programs\\Python\\Python310\\lib\\site-packages\\keras\\optimizers\\optimizer_v2\\gradient_descent.py:111: UserWarning: The `lr` argument is deprecated, use `learning_rate` instead.\n",
      "  super().__init__(name, **kwargs)\n"
     ]
    }
   ],
   "source": [
    "# ShallowNet - Ajustar imagens para 32 x 32\n",
    "from modShallowNet import ShallowNet\n",
    "shlwClf = ShallowNet()\n",
    "shlwClf = shlwClf.build(width=width, height=height, depth=3, classes=2)\n",
    "shlwClf.summary()"
   ]
  },
  {
   "cell_type": "code",
   "execution_count": 8,
   "metadata": {},
   "outputs": [
    {
     "name": "stdout",
     "output_type": "stream",
     "text": [
      "Shallow Net ***************************************************\n",
      "Epoch 1/50\n",
      "27/27 [==============================] - 17s 626ms/step - loss: 1.0176 - accuracy: 0.5685 - val_loss: 0.6775 - val_accuracy: 0.5942\n",
      "Epoch 2/50\n",
      "27/27 [==============================] - 16s 615ms/step - loss: 0.6471 - accuracy: 0.6298 - val_loss: 0.6157 - val_accuracy: 0.6558\n",
      "Epoch 3/50\n",
      "27/27 [==============================] - 16s 606ms/step - loss: 0.6165 - accuracy: 0.6622 - val_loss: 0.7093 - val_accuracy: 0.5900\n",
      "Epoch 4/50\n",
      "27/27 [==============================] - 17s 616ms/step - loss: 0.6190 - accuracy: 0.6517 - val_loss: 0.6519 - val_accuracy: 0.6108\n",
      "Epoch 5/50\n",
      "27/27 [==============================] - 16s 590ms/step - loss: 0.6233 - accuracy: 0.6444 - val_loss: 0.6275 - val_accuracy: 0.6575\n",
      "Epoch 6/50\n",
      "27/27 [==============================] - 16s 580ms/step - loss: 0.6406 - accuracy: 0.6336 - val_loss: 0.6473 - val_accuracy: 0.6192\n",
      "Epoch 7/50\n",
      "27/27 [==============================] - 16s 580ms/step - loss: 0.6769 - accuracy: 0.6116 - val_loss: 0.6203 - val_accuracy: 0.6675\n",
      "Epoch 8/50\n",
      "27/27 [==============================] - 16s 585ms/step - loss: 0.5883 - accuracy: 0.6805 - val_loss: 0.5802 - val_accuracy: 0.6917\n",
      "Epoch 9/50\n",
      "27/27 [==============================] - 16s 579ms/step - loss: 0.6951 - accuracy: 0.6653 - val_loss: 0.6610 - val_accuracy: 0.6142\n",
      "Epoch 10/50\n",
      "27/27 [==============================] - 16s 599ms/step - loss: 0.6426 - accuracy: 0.6334 - val_loss: 0.6398 - val_accuracy: 0.6183\n",
      "Epoch 11/50\n",
      "27/27 [==============================] - 16s 597ms/step - loss: 0.6085 - accuracy: 0.6634 - val_loss: 0.5952 - val_accuracy: 0.6825\n",
      "Epoch 12/50\n",
      "27/27 [==============================] - 16s 590ms/step - loss: 0.5863 - accuracy: 0.6803 - val_loss: 0.7520 - val_accuracy: 0.5783\n",
      "Epoch 13/50\n",
      "27/27 [==============================] - 16s 602ms/step - loss: 0.6920 - accuracy: 0.6687 - val_loss: 0.5808 - val_accuracy: 0.6775\n",
      "Epoch 14/50\n",
      "27/27 [==============================] - 16s 591ms/step - loss: 0.5612 - accuracy: 0.7057 - val_loss: 0.5739 - val_accuracy: 0.6908\n",
      "Epoch 15/50\n",
      "27/27 [==============================] - 16s 595ms/step - loss: 0.5511 - accuracy: 0.7086 - val_loss: 0.5613 - val_accuracy: 0.7050\n",
      "Epoch 16/50\n",
      "27/27 [==============================] - 16s 605ms/step - loss: 0.5432 - accuracy: 0.7187 - val_loss: 0.9181 - val_accuracy: 0.6158\n",
      "Epoch 17/50\n",
      "27/27 [==============================] - 16s 596ms/step - loss: 0.6104 - accuracy: 0.6718 - val_loss: 0.5944 - val_accuracy: 0.6783\n",
      "Epoch 18/50\n",
      "27/27 [==============================] - 16s 584ms/step - loss: 0.5768 - accuracy: 0.6966 - val_loss: 0.5949 - val_accuracy: 0.6750\n",
      "Epoch 19/50\n",
      "27/27 [==============================] - 16s 600ms/step - loss: 0.5471 - accuracy: 0.7189 - val_loss: 0.5626 - val_accuracy: 0.6925\n",
      "Epoch 20/50\n",
      "27/27 [==============================] - 16s 593ms/step - loss: 0.5425 - accuracy: 0.7212 - val_loss: 0.5568 - val_accuracy: 0.7058\n",
      "Epoch 21/50\n",
      "27/27 [==============================] - 16s 588ms/step - loss: 0.5478 - accuracy: 0.7160 - val_loss: 0.5536 - val_accuracy: 0.7233\n",
      "Epoch 22/50\n",
      "27/27 [==============================] - 16s 581ms/step - loss: 0.5250 - accuracy: 0.7296 - val_loss: 0.5747 - val_accuracy: 0.6950\n",
      "Epoch 23/50\n",
      "27/27 [==============================] - 16s 589ms/step - loss: 0.5388 - accuracy: 0.7191 - val_loss: 0.5943 - val_accuracy: 0.6825\n",
      "Epoch 24/50\n",
      "27/27 [==============================] - 17s 626ms/step - loss: 0.5370 - accuracy: 0.7267 - val_loss: 0.6409 - val_accuracy: 0.6500\n",
      "Epoch 25/50\n",
      "27/27 [==============================] - 16s 588ms/step - loss: 0.5469 - accuracy: 0.7231 - val_loss: 0.5707 - val_accuracy: 0.6917\n",
      "Epoch 26/50\n",
      "27/27 [==============================] - 16s 601ms/step - loss: 0.5296 - accuracy: 0.7248 - val_loss: 0.5972 - val_accuracy: 0.6633\n",
      "Epoch 27/50\n",
      "27/27 [==============================] - 16s 581ms/step - loss: 0.5138 - accuracy: 0.7427 - val_loss: 1.1039 - val_accuracy: 0.5083\n",
      "Epoch 28/50\n",
      "27/27 [==============================] - 16s 585ms/step - loss: 0.5970 - accuracy: 0.6855 - val_loss: 0.6075 - val_accuracy: 0.6775\n",
      "Epoch 29/50\n",
      "27/27 [==============================] - 16s 581ms/step - loss: 0.5668 - accuracy: 0.7017 - val_loss: 0.6162 - val_accuracy: 0.6567\n",
      "Epoch 30/50\n",
      "27/27 [==============================] - 16s 597ms/step - loss: 0.5729 - accuracy: 0.6996 - val_loss: 0.5537 - val_accuracy: 0.6992\n",
      "Epoch 31/50\n",
      "27/27 [==============================] - 16s 595ms/step - loss: 0.5442 - accuracy: 0.7141 - val_loss: 0.5951 - val_accuracy: 0.6883\n",
      "Epoch 32/50\n",
      "27/27 [==============================] - 16s 581ms/step - loss: 0.5594 - accuracy: 0.7134 - val_loss: 0.6419 - val_accuracy: 0.6017\n",
      "Epoch 33/50\n",
      "27/27 [==============================] - 16s 583ms/step - loss: 0.6163 - accuracy: 0.6559 - val_loss: 0.6102 - val_accuracy: 0.6658\n",
      "Epoch 34/50\n",
      "27/27 [==============================] - 16s 581ms/step - loss: 0.5764 - accuracy: 0.6885 - val_loss: 0.5607 - val_accuracy: 0.6933\n",
      "Epoch 35/50\n",
      "27/27 [==============================] - 16s 604ms/step - loss: 0.5359 - accuracy: 0.7275 - val_loss: 0.5762 - val_accuracy: 0.6883\n",
      "Epoch 36/50\n",
      "27/27 [==============================] - 16s 597ms/step - loss: 0.5294 - accuracy: 0.7284 - val_loss: 0.5286 - val_accuracy: 0.7367\n",
      "Epoch 37/50\n",
      "27/27 [==============================] - 16s 582ms/step - loss: 0.6628 - accuracy: 0.7071 - val_loss: 0.6493 - val_accuracy: 0.5950\n",
      "Epoch 38/50\n",
      "27/27 [==============================] - 16s 592ms/step - loss: 0.6337 - accuracy: 0.6315 - val_loss: 0.6351 - val_accuracy: 0.6308\n",
      "Epoch 39/50\n",
      "27/27 [==============================] - 16s 584ms/step - loss: 0.6295 - accuracy: 0.6458 - val_loss: 0.6196 - val_accuracy: 0.6500\n",
      "Epoch 40/50\n",
      "27/27 [==============================] - 16s 581ms/step - loss: 0.6043 - accuracy: 0.6706 - val_loss: 0.5942 - val_accuracy: 0.6833\n",
      "Epoch 41/50\n",
      "27/27 [==============================] - 16s 585ms/step - loss: 0.5829 - accuracy: 0.6948 - val_loss: 0.5812 - val_accuracy: 0.6875\n",
      "Epoch 42/50\n",
      "27/27 [==============================] - 16s 587ms/step - loss: 0.5684 - accuracy: 0.7061 - val_loss: 0.6019 - val_accuracy: 0.6775\n",
      "Epoch 43/50\n",
      "27/27 [==============================] - 16s 590ms/step - loss: 0.5718 - accuracy: 0.7025 - val_loss: 0.5809 - val_accuracy: 0.6750\n",
      "Epoch 44/50\n",
      "27/27 [==============================] - 16s 583ms/step - loss: 0.5470 - accuracy: 0.7124 - val_loss: 0.5569 - val_accuracy: 0.7125\n",
      "Epoch 45/50\n",
      "27/27 [==============================] - 16s 588ms/step - loss: 0.5482 - accuracy: 0.7160 - val_loss: 0.5421 - val_accuracy: 0.7175\n",
      "Epoch 46/50\n",
      "27/27 [==============================] - 16s 581ms/step - loss: 0.5363 - accuracy: 0.7256 - val_loss: 0.5524 - val_accuracy: 0.7042\n",
      "Epoch 47/50\n",
      "27/27 [==============================] - 16s 605ms/step - loss: 0.5369 - accuracy: 0.7250 - val_loss: 0.5561 - val_accuracy: 0.6967\n",
      "Epoch 48/50\n",
      "27/27 [==============================] - 16s 587ms/step - loss: 0.5193 - accuracy: 0.7294 - val_loss: 0.5377 - val_accuracy: 0.7258\n",
      "Epoch 49/50\n",
      "27/27 [==============================] - 16s 582ms/step - loss: 0.5294 - accuracy: 0.7307 - val_loss: 0.5689 - val_accuracy: 0.7100\n",
      "Epoch 50/50\n",
      "27/27 [==============================] - 16s 590ms/step - loss: 0.5190 - accuracy: 0.7368 - val_loss: 0.5518 - val_accuracy: 0.7158\n"
     ]
    }
   ],
   "source": [
    "print(\"Shallow Net ***************************************************\")\n",
    "h1 = shlwClf.fit(x=conjTreinamento, steps_per_epoch=passosPorEpoca, epochs=epocas, validation_data=conjTeste, validation_steps=passosPorValidacao, verbose=1).history"
   ]
  },
  {
   "cell_type": "code",
   "execution_count": 9,
   "metadata": {},
   "outputs": [
    {
     "data": {
      "image/png": "[encoded data removed]",
      "text/plain": [
       "<Figure size 432x288 with 1 Axes>"
      ]
     },
     "metadata": {
      "needs_background": "light"
     },
     "output_type": "display_data"
    }
   ],
   "source": [
    "# Gráfico de Acurácia\n",
    "plt.style.use(\"ggplot\")\n",
    "plt.figure()\n",
    "plt.plot(np.arange(0, epocas), h1[\"accuracy\"], label=\"Acuracia\")\n",
    "#plt.plot(np.arange(0, epc), h1[\"loss\"], label=\"Perda\")\n",
    "plt.plot(np.arange(0, epocas), h1[\"val_accuracy\"], label=\"Acurácia de Validação\")\n",
    "#plt.plot(np.arange(0, epc), h1[\"val_loss\"], label=\"Perda na Validação\")\n",
    "plt.title(\"ShallowNet\")\n",
    "plt.xlabel(\"Épocas\")\n",
    "plt.ylabel(\"Valores\")\n",
    "plt.legend()\n",
    "plt.show()"
   ]
  },
  {
   "cell_type": "code",
   "execution_count": 10,
   "metadata": {},
   "outputs": [
    {
     "name": "stdout",
     "output_type": "stream",
     "text": [
      "7/7 [==============================] - 0s 3ms/step\n",
      "              precision    recall  f1-score   support\n",
      "\n",
      "   Não Covid       0.82      0.68      0.74       112\n",
      "       Covid       0.66      0.81      0.73        88\n",
      "\n",
      "    accuracy                           0.73       200\n",
      "   macro avg       0.74      0.74      0.73       200\n",
      "weighted avg       0.75      0.73      0.74       200\n",
      "\n"
     ]
    }
   ],
   "source": [
    "prdSlhw = shlwClf.predict(conjTeste[0][0])\n",
    "categorias = []\n",
    "for i in conjTeste[0][1]:\n",
    "    categorias.append(0 if i[0] > 0.0 else 1)\n",
    "predShallow = []\n",
    "for i in prdSlhw:\n",
    "    predShallow.append(0 if i[0] >= 0.5 else 1)\n",
    "print(classification_report(categorias, predShallow, target_names=[\"Não Covid\", \"Covid\"]))"
   ]
  },
  {
   "cell_type": "code",
   "execution_count": 11,
   "metadata": {},
   "outputs": [],
   "source": [
    "ga.geraHistorico(\"arquivos/arqShallowNet\"+str(epocas)+\".csv\", h1)\n",
    "ga.geraPredicao(\"arquivos/arqPredShallow\"+str(tamanhoDoLote)+\".csv\", categorias, predShallow)"
   ]
  },
  {
   "cell_type": "code",
   "execution_count": 12,
   "metadata": {},
   "outputs": [
    {
     "data": {
      "text/plain": [
       "' \\ndf1 = dfc.getDfPredicao()\\nprdTmnh = len(df1)\\nconjPred = imgGen.flow_from_dataframe(df1, \"D:/DropB/Faculeste/TCC/Imagens/dataFrame\", \\n                                x_col = \\'arquivo\\',\\n                                y_col = \\'categoria\\',\\n                                target_size=(width, height), \\n                                batch_size=prdTmnh, \\n                                class_mode=\\'categorical\\')\\nprdSlhw = shlwClf.predict(conjPred[0][0])\\ncategorias = []\\nfor i in conjPred[0][1]:\\n    categorias.append(0 if i[0] > 0.0 else 1)\\nprdShllw = []\\nfor i in prdSlhw:\\n    prdShllw.append(0 if i[0] >= 0.5 else 1)\\nprint(classification_report(categorias, prdShllw, target_names=[\"Não Covid\", \"Covid\"]))\\n'"
      ]
     },
     "execution_count": 12,
     "metadata": {},
     "output_type": "execute_result"
    }
   ],
   "source": [
    "''' \n",
    "df1 = dfc.getDfPredicao()\n",
    "prdTmnh = len(df1)\n",
    "conjPred = imgGen.flow_from_dataframe(df1, \"D:/DropB/Faculeste/TCC/Imagens/dataFrame\", \n",
    "                                x_col = 'arquivo',\n",
    "                                y_col = 'categoria',\n",
    "                                target_size=(width, height), \n",
    "                                batch_size=prdTmnh, \n",
    "                                class_mode='categorical')\n",
    "prdSlhw = shlwClf.predict(conjPred[0][0])\n",
    "categorias = []\n",
    "for i in conjPred[0][1]:\n",
    "    categorias.append(0 if i[0] > 0.0 else 1)\n",
    "prdShllw = []\n",
    "for i in prdSlhw:\n",
    "    prdShllw.append(0 if i[0] >= 0.5 else 1)\n",
    "print(classification_report(categorias, prdShllw, target_names=[\"Não Covid\", \"Covid\"]))\n",
    "'''"
   ]
  }
 ],
 "metadata": {
  "kernelspec": {
   "display_name": "Python 3",
   "language": "python",
   "name": "python3"
  },
  "language_info": {
   "codemirror_mode": {
    "name": "ipython",
    "version": 3
   },
   "file_extension": ".py",
   "mimetype": "text/x-python",
   "name": "python",
   "nbconvert_exporter": "python",
   "pygments_lexer": "ipython3",
   "version": "3.10.5"
  },
  "orig_nbformat": 4
 },
 "nbformat": 4,
 "nbformat_minor": 2
}
