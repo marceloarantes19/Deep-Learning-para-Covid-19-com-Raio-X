{
 "cells": [
  {
   "cell_type": "code",
   "execution_count": 1,
   "metadata": {},
   "outputs": [],
   "source": [
    "from keras.preprocessing.image import ImageDataGenerator\n",
    "import matplotlib.pyplot as plt \n",
    "import numpy as np\n",
    "from sklearn.metrics import confusion_matrix, f1_score, precision_score, accuracy_score, recall_score \n",
    "from dataFrameCovid import DataFrameCovid as dfc"
   ]
  },
  {
   "cell_type": "code",
   "execution_count": 2,
   "metadata": {},
   "outputs": [
    {
     "name": "stderr",
     "output_type": "stream",
     "text": [
      "d:\\DropB\\Faculeste\\TCC\\codigos\\dataFrameCovid.py:27: FutureWarning: The frame.append method is deprecated and will be removed from pandas in a future version. Use pandas.concat instead.\n",
      "  df = df1.append(df2)\n"
     ]
    }
   ],
   "source": [
    "# Monta dataframe com nome dos arquivos\n",
    "df = dfc.getDf()"
   ]
  },
  {
   "cell_type": "code",
   "execution_count": 28,
   "metadata": {},
   "outputs": [
    {
     "data": {
      "text/plain": [
       "(58, 14)"
      ]
     },
     "execution_count": 28,
     "metadata": {},
     "output_type": "execute_result"
    }
   ],
   "source": [
    "# Variáveis de controle\n",
    "nImagens = len(df)\n",
    "percentual = 0.8\n",
    "tamanhoDoLote = 100\n",
    "epocas = 20\n",
    "passosPorEpoca = int(nImagens*percentual // tamanhoDoLote)\n",
    "passosPorValidacao = int(nImagens*(1.0 - percentual) // tamanhoDoLote)\n",
    "width = 32\n",
    "height = 32\n",
    "depth = 3\n",
    "classes = 2\n",
    "inputShape = (height, width, depth)\n",
    "passosPorEpoca, passosPorValidacao"
   ]
  },
  {
   "cell_type": "code",
   "execution_count": 29,
   "metadata": {},
   "outputs": [],
   "source": [
    "# gerando dataframes de treinamento e de teste\n",
    "dfTreinamento = df.sample(frac=0.8, random_state=100) # 70% de treinamento\n",
    "dfTeste = df[~df['arquivo'].isin(dfTreinamento['arquivo'])]     # 30% de teste"
   ]
  },
  {
   "cell_type": "code",
   "execution_count": 30,
   "metadata": {},
   "outputs": [
    {
     "name": "stdout",
     "output_type": "stream",
     "text": [
      "Found 5840 validated image filenames belonging to 2 classes.\n",
      "Found 1460 validated image filenames belonging to 2 classes.\n"
     ]
    }
   ],
   "source": [
    "imgGen = ImageDataGenerator(rescale = 1./255, \n",
    "                            shear_range=0.25, \n",
    "                            zoom_range = 0.25, \n",
    "                            horizontal_flip = True)\n",
    "\n",
    "conjTreinamento = imgGen.flow_from_dataframe(dfTreinamento, \"D:/DropB/Faculeste/TCC/Imagens/dataFrame\", \n",
    "                                  x_col = 'arquivo',\n",
    "                                  y_col = 'categoria',\n",
    "                                  target_size=(width, height), \n",
    "                                  batch_size=tamanhoDoLote, \n",
    "                                  class_mode='categorical')\n",
    "\n",
    "conjTeste = imgGen.flow_from_dataframe(dfTeste, \"D:/DropB/Faculeste/TCC/Imagens/dataFrame\", \n",
    "                                  x_col = 'arquivo',\n",
    "                                  y_col = 'categoria',\n",
    "                                  target_size=(width, height), \n",
    "                                  batch_size=tamanhoDoLote, \n",
    "                                  class_mode='categorical')"
   ]
  },
  {
   "cell_type": "code",
   "execution_count": 31,
   "metadata": {},
   "outputs": [
    {
     "name": "stdout",
     "output_type": "stream",
     "text": [
      "Model: \"sequential_2\"\n",
      "_________________________________________________________________\n",
      " Layer (type)                Output Shape              Param #   \n",
      "=================================================================\n",
      " conv2d_2 (Conv2D)           (None, 32, 32, 32)        896       \n",
      "                                                                 \n",
      " activation_4 (Activation)   (None, 32, 32, 32)        0         \n",
      "                                                                 \n",
      " flatten_2 (Flatten)         (None, 32768)             0         \n",
      "                                                                 \n",
      " dense_2 (Dense)             (None, 2)                 65538     \n",
      "                                                                 \n",
      " activation_5 (Activation)   (None, 2)                 0         \n",
      "                                                                 \n",
      "=================================================================\n",
      "Total params: 66,434\n",
      "Trainable params: 66,434\n",
      "Non-trainable params: 0\n",
      "_________________________________________________________________\n"
     ]
    },
    {
     "name": "stderr",
     "output_type": "stream",
     "text": [
      "c:\\Users\\Marcelo\\AppData\\Local\\Programs\\Python\\Python310\\lib\\site-packages\\keras\\optimizers\\optimizer_v2\\gradient_descent.py:111: UserWarning: The `lr` argument is deprecated, use `learning_rate` instead.\n",
      "  super().__init__(name, **kwargs)\n"
     ]
    }
   ],
   "source": [
    "# ShallowNet - Ajustar imagens para 32 x 32\n",
    "from shallowNet import ShallowNet\n",
    "shlwClf = ShallowNet()\n",
    "shlwClf = shlwClf.build(width=width, height=height, depth=3, classes=2)\n",
    "shlwClf.summary()"
   ]
  },
  {
   "cell_type": "code",
   "execution_count": 32,
   "metadata": {},
   "outputs": [
    {
     "name": "stdout",
     "output_type": "stream",
     "text": [
      "Shallow Net ***************************************************\n",
      "Epoch 1/20\n",
      "58/58 [==============================] - 17s 297ms/step - loss: 0.7046 - accuracy: 0.5836 - val_loss: 0.6236 - val_accuracy: 0.6636\n",
      "Epoch 2/20\n",
      "58/58 [==============================] - 17s 294ms/step - loss: 0.6477 - accuracy: 0.6280 - val_loss: 0.6256 - val_accuracy: 0.6679\n",
      "Epoch 3/20\n",
      "58/58 [==============================] - 18s 310ms/step - loss: 0.6365 - accuracy: 0.6425 - val_loss: 0.6023 - val_accuracy: 0.6600\n",
      "Epoch 4/20\n",
      "58/58 [==============================] - 18s 312ms/step - loss: 0.6099 - accuracy: 0.6739 - val_loss: 0.6708 - val_accuracy: 0.6150\n",
      "Epoch 5/20\n",
      "58/58 [==============================] - 18s 314ms/step - loss: 0.6490 - accuracy: 0.6413 - val_loss: 0.6102 - val_accuracy: 0.6607\n",
      "Epoch 6/20\n",
      "58/58 [==============================] - 18s 316ms/step - loss: 0.5985 - accuracy: 0.6779 - val_loss: 0.6008 - val_accuracy: 0.6779\n",
      "Epoch 7/20\n",
      "58/58 [==============================] - 18s 313ms/step - loss: 0.6090 - accuracy: 0.6662 - val_loss: 0.6398 - val_accuracy: 0.6350\n",
      "Epoch 8/20\n",
      "58/58 [==============================] - 18s 312ms/step - loss: 0.6150 - accuracy: 0.6713 - val_loss: 0.6443 - val_accuracy: 0.6250\n",
      "Epoch 9/20\n",
      "58/58 [==============================] - 19s 325ms/step - loss: 0.5930 - accuracy: 0.6826 - val_loss: 0.5782 - val_accuracy: 0.6979\n",
      "Epoch 10/20\n",
      "58/58 [==============================] - 18s 317ms/step - loss: 0.5936 - accuracy: 0.6789 - val_loss: 0.5886 - val_accuracy: 0.6807\n",
      "Epoch 11/20\n",
      "58/58 [==============================] - 18s 316ms/step - loss: 0.5914 - accuracy: 0.6951 - val_loss: 0.6646 - val_accuracy: 0.5907\n",
      "Epoch 12/20\n",
      "58/58 [==============================] - 18s 316ms/step - loss: 0.5846 - accuracy: 0.6836 - val_loss: 0.5471 - val_accuracy: 0.7243\n",
      "Epoch 13/20\n",
      "58/58 [==============================] - 18s 315ms/step - loss: 0.5825 - accuracy: 0.7009 - val_loss: 0.6115 - val_accuracy: 0.6557\n",
      "Epoch 14/20\n",
      "58/58 [==============================] - 18s 317ms/step - loss: 0.5716 - accuracy: 0.7021 - val_loss: 0.5624 - val_accuracy: 0.6943\n",
      "Epoch 15/20\n",
      "58/58 [==============================] - 19s 322ms/step - loss: 0.5840 - accuracy: 0.7023 - val_loss: 0.6103 - val_accuracy: 0.6579\n",
      "Epoch 16/20\n",
      "58/58 [==============================] - 20s 349ms/step - loss: 0.5763 - accuracy: 0.6932 - val_loss: 0.6006 - val_accuracy: 0.6593\n",
      "Epoch 17/20\n",
      "58/58 [==============================] - 19s 321ms/step - loss: 0.5758 - accuracy: 0.6965 - val_loss: 0.5745 - val_accuracy: 0.7021\n",
      "Epoch 18/20\n",
      "58/58 [==============================] - 22s 386ms/step - loss: 0.5815 - accuracy: 0.6949 - val_loss: 0.5510 - val_accuracy: 0.7064\n",
      "Epoch 19/20\n",
      "58/58 [==============================] - 19s 325ms/step - loss: 0.5594 - accuracy: 0.7028 - val_loss: 0.5636 - val_accuracy: 0.6936\n",
      "Epoch 20/20\n",
      "58/58 [==============================] - 19s 323ms/step - loss: 0.5616 - accuracy: 0.7047 - val_loss: 0.5668 - val_accuracy: 0.6929\n"
     ]
    }
   ],
   "source": [
    "print(\"Shallow Net ***************************************************\")\n",
    "h1 = shlwClf.fit(x=conjTreinamento, steps_per_epoch=passosPorEpoca, epochs=epocas, validation_data=conjTeste, validation_steps=passosPorValidacao, verbose=1).history"
   ]
  },
  {
   "cell_type": "code",
   "execution_count": 34,
   "metadata": {},
   "outputs": [
    {
     "data": {
      "image/png": "[encoded data removed]",
      "text/plain": [
       "<Figure size 432x288 with 1 Axes>"
      ]
     },
     "metadata": {},
     "output_type": "display_data"
    }
   ],
   "source": [
    "# Gráfico de Acurácia\n",
    "plt.style.use(\"ggplot\")\n",
    "plt.figure()\n",
    "plt.plot(np.arange(0, epocas), h1[\"accuracy\"], label=\"Acuracia\")\n",
    "#plt.plot(np.arange(0, epc), h1[\"loss\"], label=\"Perda\")\n",
    "plt.plot(np.arange(0, epocas), h1[\"val_accuracy\"], label=\"Acurácia de Validação\")\n",
    "#plt.plot(np.arange(0, epc), h1[\"val_loss\"], label=\"Perda na Validação\")\n",
    "plt.title(\"ShallowNet\")\n",
    "plt.xlabel(\"Épocas\")\n",
    "plt.ylabel(\"Valores\")\n",
    "plt.legend()\n",
    "plt.show()"
   ]
  },
  {
   "cell_type": "code",
   "execution_count": 35,
   "metadata": {},
   "outputs": [
    {
     "name": "stdout",
     "output_type": "stream",
     "text": [
      "4/4 [==============================] - 0s 3ms/step\n",
      "              precision    recall  f1-score   support\n",
      "\n",
      "   Não Covid       0.68      0.64      0.66        44\n",
      "       Covid       0.73      0.77      0.75        56\n",
      "\n",
      "    accuracy                           0.71       100\n",
      "   macro avg       0.71      0.70      0.70       100\n",
      "weighted avg       0.71      0.71      0.71       100\n",
      "\n"
     ]
    }
   ],
   "source": [
    "from sklearn.metrics import classification_report\n",
    "prdSlhw = shlwClf.predict(conjTeste[0][0])\n",
    "categorias = []\n",
    "for i in conjTeste[0][1]:\n",
    "    categorias.append(0 if i[0] > 0.0 else 1)\n",
    "predShallow = []\n",
    "for i in prdSlhw:\n",
    "    predShallow.append(0 if i[0] >= 0.5 else 1)\n",
    "print(classification_report(categorias, predShallow, target_names=[\"Não Covid\", \"Covid\"]))"
   ]
  }
 ],
 "metadata": {
  "kernelspec": {
   "display_name": "Python 3",
   "language": "python",
   "name": "python3"
  },
  "language_info": {
   "codemirror_mode": {
    "name": "ipython",
    "version": 3
   },
   "file_extension": ".py",
   "mimetype": "text/x-python",
   "name": "python",
   "nbconvert_exporter": "python",
   "pygments_lexer": "ipython3",
   "version": "3.10.5"
  },
  "orig_nbformat": 4
 },
 "nbformat": 4,
 "nbformat_minor": 2
}
