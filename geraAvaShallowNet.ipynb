{
 "cells": [
  {
   "cell_type": "code",
   "execution_count": 1,
   "metadata": {},
   "outputs": [],
   "source": [
    "from keras.preprocessing.image import ImageDataGenerator\n",
    "import matplotlib.pyplot as plt \n",
    "import numpy as np\n",
    "from sklearn.metrics import confusion_matrix, f1_score, precision_score, accuracy_score, recall_score \n",
    "from dataFrameCovid import DataFrameCovid as dfc"
   ]
  },
  {
   "cell_type": "code",
   "execution_count": 2,
   "metadata": {},
   "outputs": [
    {
     "name": "stderr",
     "output_type": "stream",
     "text": [
      "d:\\DropB\\Faculeste\\TCC\\codigos\\dataFrameCovid.py:27: FutureWarning: The frame.append method is deprecated and will be removed from pandas in a future version. Use pandas.concat instead.\n",
      "  df = df1.append(df2)\n"
     ]
    }
   ],
   "source": [
    "# Monta dataframe com nome dos arquivos\n",
    "df = dfc.getDf()"
   ]
  },
  {
   "cell_type": "code",
   "execution_count": 15,
   "metadata": {},
   "outputs": [],
   "source": [
    "# gerando dataframes de treinamento e de teste\n",
    "dfTreinamento = df.sample(frac=0.7, random_state=100) # 70% de treinamento\n",
    "dfTeste = df[~df['arquivo'].isin(dfTreinamento['arquivo'])]     # 30% de teste"
   ]
  },
  {
   "cell_type": "code",
   "execution_count": 17,
   "metadata": {},
   "outputs": [],
   "source": [
    "width = 32\n",
    "height = 32\n",
    "depth = 3\n",
    "classes = 2\n",
    "inputShape = (height, width, depth)"
   ]
  },
  {
   "cell_type": "code",
   "execution_count": 18,
   "metadata": {},
   "outputs": [
    {
     "name": "stdout",
     "output_type": "stream",
     "text": [
      "Found 5110 validated image filenames belonging to 2 classes.\n",
      "Found 2190 validated image filenames belonging to 2 classes.\n"
     ]
    }
   ],
   "source": [
    "imgGen = ImageDataGenerator(rescale = 1./255, \n",
    "                            shear_range=0.25, \n",
    "                            zoom_range = 0.25, \n",
    "                            horizontal_flip = True)\n",
    "\n",
    "conjTreinamento = imgGen.flow_from_dataframe(dfTreinamento, \"D:/DropB/Faculeste/TCC/Imagens/dataFrame\", \n",
    "                                  x_col = 'arquivo',\n",
    "                                  y_col = 'categoria',\n",
    "                                  target_size=(width, height), \n",
    "                                  batch_size=len(dfTreinamento), \n",
    "                                  class_mode='categorical')\n",
    "\n",
    "conjTeste = imgGen.flow_from_dataframe(dfTeste, \"D:/DropB/Faculeste/TCC/Imagens/dataFrame\", \n",
    "                                  x_col = 'arquivo',\n",
    "                                  y_col = 'categoria',\n",
    "                                  target_size=(width, height), \n",
    "                                  batch_size=len(dfTeste), \n",
    "                                  class_mode='categorical')"
   ]
  },
  {
   "cell_type": "code",
   "execution_count": 19,
   "metadata": {},
   "outputs": [
    {
     "name": "stdout",
     "output_type": "stream",
     "text": [
      "Model: \"sequential_1\"\n",
      "_________________________________________________________________\n",
      " Layer (type)                Output Shape              Param #   \n",
      "=================================================================\n",
      " conv2d_1 (Conv2D)           (None, 32, 32, 32)        896       \n",
      "                                                                 \n",
      " activation_2 (Activation)   (None, 32, 32, 32)        0         \n",
      "                                                                 \n",
      " flatten_1 (Flatten)         (None, 32768)             0         \n",
      "                                                                 \n",
      " dense_1 (Dense)             (None, 2)                 65538     \n",
      "                                                                 \n",
      " activation_3 (Activation)   (None, 2)                 0         \n",
      "                                                                 \n",
      "=================================================================\n",
      "Total params: 66,434\n",
      "Trainable params: 66,434\n",
      "Non-trainable params: 0\n",
      "_________________________________________________________________\n"
     ]
    },
    {
     "name": "stderr",
     "output_type": "stream",
     "text": [
      "c:\\Users\\Marcelo\\AppData\\Local\\Programs\\Python\\Python310\\lib\\site-packages\\keras\\optimizers\\optimizer_v2\\gradient_descent.py:111: UserWarning: The `lr` argument is deprecated, use `learning_rate` instead.\n",
      "  super().__init__(name, **kwargs)\n"
     ]
    }
   ],
   "source": [
    "# ShallowNet - Ajustar imagens para 32 x 32\n",
    "from shallowNet import ShallowNet\n",
    "shlwClf = ShallowNet()\n",
    "shlwClf = shlwClf.build(width=width, height=height, depth=3, classes=2)\n",
    "shlwClf.summary()"
   ]
  },
  {
   "cell_type": "code",
   "execution_count": 23,
   "metadata": {},
   "outputs": [],
   "source": [
    "spe = 2\n",
    "epc = 20\n",
    "vls = 2"
   ]
  },
  {
   "cell_type": "code",
   "execution_count": 24,
   "metadata": {},
   "outputs": [
    {
     "name": "stdout",
     "output_type": "stream",
     "text": [
      "Shallow Net ***************************************************\n",
      "Epoch 1/20\n",
      "1/2 [==============>...............] - ETA: 12s - loss: 0.6492 - accuracy: 0.6534WARNING:tensorflow:Your input ran out of data; interrupting training. Make sure that your dataset or generator can generate at least `steps_per_epoch * epochs` batches (in this case, 40 batches). You may need to use the repeat() function when building your dataset.\n",
      "WARNING:tensorflow:Your input ran out of data; interrupting training. Make sure that your dataset or generator can generate at least `steps_per_epoch * epochs` batches (in this case, 2 batches). You may need to use the repeat() function when building your dataset.\n",
      "2/2 [==============================] - 17s 5s/step - loss: 0.6492 - accuracy: 0.6534 - val_loss: 1.8149 - val_accuracy: 0.5018\n"
     ]
    }
   ],
   "source": [
    "print(\"Shallow Net ***************************************************\")\n",
    "h1 = shlwClf.fit(x=conjTreinamento, steps_per_epoch=spe, epochs=epc, validation_data=conjTeste, validation_steps=vls, verbose=1).history"
   ]
  },
  {
   "cell_type": "code",
   "execution_count": null,
   "metadata": {},
   "outputs": [
    {
     "data": {
      "image/png": "[encoded data removed]",
      "text/plain": [
       "<Figure size 432x288 with 1 Axes>"
      ]
     },
     "metadata": {
      "needs_background": "light"
     },
     "output_type": "display_data"
    }
   ],
   "source": [
    "# Gráfico de Acurácia\n",
    "plt.style.use(\"ggplot\")\n",
    "plt.figure()\n",
    "plt.plot(np.arange(0, epc), h1[\"accuracy\"], label=\"Acuracia\")\n",
    "plt.plot(np.arange(0, epc), h1[\"loss\"], label=\"Perda\")\n",
    "plt.plot(np.arange(0, epc), h1[\"val_accuracy\"], label=\"Acurácia de Validação\")\n",
    "plt.plot(np.arange(0, epc), h1[\"val_loss\"], label=\"Perda na Validação\")\n",
    "plt.title(\"ShallowNet\")\n",
    "plt.xlabel(\"Épocas\")\n",
    "plt.ylabel(\"Valores\")\n",
    "plt.legend()\n",
    "plt.show()"
   ]
  }
 ],
 "metadata": {
  "kernelspec": {
   "display_name": "Python 3",
   "language": "python",
   "name": "python3"
  },
  "language_info": {
   "codemirror_mode": {
    "name": "ipython",
    "version": 3
   },
   "file_extension": ".py",
   "mimetype": "text/x-python",
   "name": "python",
   "nbconvert_exporter": "python",
   "pygments_lexer": "ipython3",
   "version": "3.10.5"
  },
  "orig_nbformat": 4
 },
 "nbformat": 4,
 "nbformat_minor": 2
}
